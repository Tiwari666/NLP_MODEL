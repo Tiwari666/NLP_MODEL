{
  "nbformat": 4,
  "nbformat_minor": 0,
  "metadata": {
    "colab": {
      "provenance": [],
      "authorship_tag": "ABX9TyOpDVZN+u3MKRQlcNWsbN4j",
      "include_colab_link": true
    },
    "kernelspec": {
      "name": "python3",
      "display_name": "Python 3"
    },
    "language_info": {
      "name": "python"
    },
    "widgets": {
      "application/vnd.jupyter.widget-state+json": {
        "20fcbe3f5df24b2c98356424ece4ab49": {
          "model_module": "@jupyter-widgets/controls",
          "model_name": "HBoxModel",
          "model_module_version": "1.5.0",
          "state": {
            "_dom_classes": [],
            "_model_module": "@jupyter-widgets/controls",
            "_model_module_version": "1.5.0",
            "_model_name": "HBoxModel",
            "_view_count": null,
            "_view_module": "@jupyter-widgets/controls",
            "_view_module_version": "1.5.0",
            "_view_name": "HBoxView",
            "box_style": "",
            "children": [
              "IPY_MODEL_515bd23ae9d940cfbd1dfab249d63200",
              "IPY_MODEL_bef5e96890be4b778b30ed4c3ef04eb3",
              "IPY_MODEL_63c7cc647146472bba85625a9929dc53"
            ],
            "layout": "IPY_MODEL_23ddf2d96b16404d8674b105d338fc0b"
          }
        },
        "515bd23ae9d940cfbd1dfab249d63200": {
          "model_module": "@jupyter-widgets/controls",
          "model_name": "HTMLModel",
          "model_module_version": "1.5.0",
          "state": {
            "_dom_classes": [],
            "_model_module": "@jupyter-widgets/controls",
            "_model_module_version": "1.5.0",
            "_model_name": "HTMLModel",
            "_view_count": null,
            "_view_module": "@jupyter-widgets/controls",
            "_view_module_version": "1.5.0",
            "_view_name": "HTMLView",
            "description": "",
            "description_tooltip": null,
            "layout": "IPY_MODEL_cde6de77b2904b75a4b9696fec75081a",
            "placeholder": "​",
            "style": "IPY_MODEL_10596055cb454f42b95c0a42cfd493e8",
            "value": "tokenizer_config.json: 100%"
          }
        },
        "bef5e96890be4b778b30ed4c3ef04eb3": {
          "model_module": "@jupyter-widgets/controls",
          "model_name": "FloatProgressModel",
          "model_module_version": "1.5.0",
          "state": {
            "_dom_classes": [],
            "_model_module": "@jupyter-widgets/controls",
            "_model_module_version": "1.5.0",
            "_model_name": "FloatProgressModel",
            "_view_count": null,
            "_view_module": "@jupyter-widgets/controls",
            "_view_module_version": "1.5.0",
            "_view_name": "ProgressView",
            "bar_style": "success",
            "description": "",
            "description_tooltip": null,
            "layout": "IPY_MODEL_d2dee416e5824358bb21e7efc330c88b",
            "max": 26,
            "min": 0,
            "orientation": "horizontal",
            "style": "IPY_MODEL_8c476620287a4707bc148b4e556474ac",
            "value": 26
          }
        },
        "63c7cc647146472bba85625a9929dc53": {
          "model_module": "@jupyter-widgets/controls",
          "model_name": "HTMLModel",
          "model_module_version": "1.5.0",
          "state": {
            "_dom_classes": [],
            "_model_module": "@jupyter-widgets/controls",
            "_model_module_version": "1.5.0",
            "_model_name": "HTMLModel",
            "_view_count": null,
            "_view_module": "@jupyter-widgets/controls",
            "_view_module_version": "1.5.0",
            "_view_name": "HTMLView",
            "description": "",
            "description_tooltip": null,
            "layout": "IPY_MODEL_3b63e499daa845099145061d769a0cc5",
            "placeholder": "​",
            "style": "IPY_MODEL_4661f7f29f53498199c010840b2623af",
            "value": " 26.0/26.0 [00:00&lt;00:00, 1.43kB/s]"
          }
        },
        "23ddf2d96b16404d8674b105d338fc0b": {
          "model_module": "@jupyter-widgets/base",
          "model_name": "LayoutModel",
          "model_module_version": "1.2.0",
          "state": {
            "_model_module": "@jupyter-widgets/base",
            "_model_module_version": "1.2.0",
            "_model_name": "LayoutModel",
            "_view_count": null,
            "_view_module": "@jupyter-widgets/base",
            "_view_module_version": "1.2.0",
            "_view_name": "LayoutView",
            "align_content": null,
            "align_items": null,
            "align_self": null,
            "border": null,
            "bottom": null,
            "display": null,
            "flex": null,
            "flex_flow": null,
            "grid_area": null,
            "grid_auto_columns": null,
            "grid_auto_flow": null,
            "grid_auto_rows": null,
            "grid_column": null,
            "grid_gap": null,
            "grid_row": null,
            "grid_template_areas": null,
            "grid_template_columns": null,
            "grid_template_rows": null,
            "height": null,
            "justify_content": null,
            "justify_items": null,
            "left": null,
            "margin": null,
            "max_height": null,
            "max_width": null,
            "min_height": null,
            "min_width": null,
            "object_fit": null,
            "object_position": null,
            "order": null,
            "overflow": null,
            "overflow_x": null,
            "overflow_y": null,
            "padding": null,
            "right": null,
            "top": null,
            "visibility": null,
            "width": null
          }
        },
        "cde6de77b2904b75a4b9696fec75081a": {
          "model_module": "@jupyter-widgets/base",
          "model_name": "LayoutModel",
          "model_module_version": "1.2.0",
          "state": {
            "_model_module": "@jupyter-widgets/base",
            "_model_module_version": "1.2.0",
            "_model_name": "LayoutModel",
            "_view_count": null,
            "_view_module": "@jupyter-widgets/base",
            "_view_module_version": "1.2.0",
            "_view_name": "LayoutView",
            "align_content": null,
            "align_items": null,
            "align_self": null,
            "border": null,
            "bottom": null,
            "display": null,
            "flex": null,
            "flex_flow": null,
            "grid_area": null,
            "grid_auto_columns": null,
            "grid_auto_flow": null,
            "grid_auto_rows": null,
            "grid_column": null,
            "grid_gap": null,
            "grid_row": null,
            "grid_template_areas": null,
            "grid_template_columns": null,
            "grid_template_rows": null,
            "height": null,
            "justify_content": null,
            "justify_items": null,
            "left": null,
            "margin": null,
            "max_height": null,
            "max_width": null,
            "min_height": null,
            "min_width": null,
            "object_fit": null,
            "object_position": null,
            "order": null,
            "overflow": null,
            "overflow_x": null,
            "overflow_y": null,
            "padding": null,
            "right": null,
            "top": null,
            "visibility": null,
            "width": null
          }
        },
        "10596055cb454f42b95c0a42cfd493e8": {
          "model_module": "@jupyter-widgets/controls",
          "model_name": "DescriptionStyleModel",
          "model_module_version": "1.5.0",
          "state": {
            "_model_module": "@jupyter-widgets/controls",
            "_model_module_version": "1.5.0",
            "_model_name": "DescriptionStyleModel",
            "_view_count": null,
            "_view_module": "@jupyter-widgets/base",
            "_view_module_version": "1.2.0",
            "_view_name": "StyleView",
            "description_width": ""
          }
        },
        "d2dee416e5824358bb21e7efc330c88b": {
          "model_module": "@jupyter-widgets/base",
          "model_name": "LayoutModel",
          "model_module_version": "1.2.0",
          "state": {
            "_model_module": "@jupyter-widgets/base",
            "_model_module_version": "1.2.0",
            "_model_name": "LayoutModel",
            "_view_count": null,
            "_view_module": "@jupyter-widgets/base",
            "_view_module_version": "1.2.0",
            "_view_name": "LayoutView",
            "align_content": null,
            "align_items": null,
            "align_self": null,
            "border": null,
            "bottom": null,
            "display": null,
            "flex": null,
            "flex_flow": null,
            "grid_area": null,
            "grid_auto_columns": null,
            "grid_auto_flow": null,
            "grid_auto_rows": null,
            "grid_column": null,
            "grid_gap": null,
            "grid_row": null,
            "grid_template_areas": null,
            "grid_template_columns": null,
            "grid_template_rows": null,
            "height": null,
            "justify_content": null,
            "justify_items": null,
            "left": null,
            "margin": null,
            "max_height": null,
            "max_width": null,
            "min_height": null,
            "min_width": null,
            "object_fit": null,
            "object_position": null,
            "order": null,
            "overflow": null,
            "overflow_x": null,
            "overflow_y": null,
            "padding": null,
            "right": null,
            "top": null,
            "visibility": null,
            "width": null
          }
        },
        "8c476620287a4707bc148b4e556474ac": {
          "model_module": "@jupyter-widgets/controls",
          "model_name": "ProgressStyleModel",
          "model_module_version": "1.5.0",
          "state": {
            "_model_module": "@jupyter-widgets/controls",
            "_model_module_version": "1.5.0",
            "_model_name": "ProgressStyleModel",
            "_view_count": null,
            "_view_module": "@jupyter-widgets/base",
            "_view_module_version": "1.2.0",
            "_view_name": "StyleView",
            "bar_color": null,
            "description_width": ""
          }
        },
        "3b63e499daa845099145061d769a0cc5": {
          "model_module": "@jupyter-widgets/base",
          "model_name": "LayoutModel",
          "model_module_version": "1.2.0",
          "state": {
            "_model_module": "@jupyter-widgets/base",
            "_model_module_version": "1.2.0",
            "_model_name": "LayoutModel",
            "_view_count": null,
            "_view_module": "@jupyter-widgets/base",
            "_view_module_version": "1.2.0",
            "_view_name": "LayoutView",
            "align_content": null,
            "align_items": null,
            "align_self": null,
            "border": null,
            "bottom": null,
            "display": null,
            "flex": null,
            "flex_flow": null,
            "grid_area": null,
            "grid_auto_columns": null,
            "grid_auto_flow": null,
            "grid_auto_rows": null,
            "grid_column": null,
            "grid_gap": null,
            "grid_row": null,
            "grid_template_areas": null,
            "grid_template_columns": null,
            "grid_template_rows": null,
            "height": null,
            "justify_content": null,
            "justify_items": null,
            "left": null,
            "margin": null,
            "max_height": null,
            "max_width": null,
            "min_height": null,
            "min_width": null,
            "object_fit": null,
            "object_position": null,
            "order": null,
            "overflow": null,
            "overflow_x": null,
            "overflow_y": null,
            "padding": null,
            "right": null,
            "top": null,
            "visibility": null,
            "width": null
          }
        },
        "4661f7f29f53498199c010840b2623af": {
          "model_module": "@jupyter-widgets/controls",
          "model_name": "DescriptionStyleModel",
          "model_module_version": "1.5.0",
          "state": {
            "_model_module": "@jupyter-widgets/controls",
            "_model_module_version": "1.5.0",
            "_model_name": "DescriptionStyleModel",
            "_view_count": null,
            "_view_module": "@jupyter-widgets/base",
            "_view_module_version": "1.2.0",
            "_view_name": "StyleView",
            "description_width": ""
          }
        },
        "c69e56150b4743b0b43f34ff4cbbf6fc": {
          "model_module": "@jupyter-widgets/controls",
          "model_name": "HBoxModel",
          "model_module_version": "1.5.0",
          "state": {
            "_dom_classes": [],
            "_model_module": "@jupyter-widgets/controls",
            "_model_module_version": "1.5.0",
            "_model_name": "HBoxModel",
            "_view_count": null,
            "_view_module": "@jupyter-widgets/controls",
            "_view_module_version": "1.5.0",
            "_view_name": "HBoxView",
            "box_style": "",
            "children": [
              "IPY_MODEL_66a37330b8844c989f68a707a81b1da2",
              "IPY_MODEL_57f4b93df7354bfd81c17bf6d890d36a",
              "IPY_MODEL_e59e0401fe174740bd5546851469c7e3"
            ],
            "layout": "IPY_MODEL_e40d04e0d03344a2ab8bec83bf00d6f2"
          }
        },
        "66a37330b8844c989f68a707a81b1da2": {
          "model_module": "@jupyter-widgets/controls",
          "model_name": "HTMLModel",
          "model_module_version": "1.5.0",
          "state": {
            "_dom_classes": [],
            "_model_module": "@jupyter-widgets/controls",
            "_model_module_version": "1.5.0",
            "_model_name": "HTMLModel",
            "_view_count": null,
            "_view_module": "@jupyter-widgets/controls",
            "_view_module_version": "1.5.0",
            "_view_name": "HTMLView",
            "description": "",
            "description_tooltip": null,
            "layout": "IPY_MODEL_8f7bb9cf34ff4e9ca007faa0857f66fb",
            "placeholder": "​",
            "style": "IPY_MODEL_d61648dc97364384b0663e32a4ea9d4e",
            "value": "vocab.json: 100%"
          }
        },
        "57f4b93df7354bfd81c17bf6d890d36a": {
          "model_module": "@jupyter-widgets/controls",
          "model_name": "FloatProgressModel",
          "model_module_version": "1.5.0",
          "state": {
            "_dom_classes": [],
            "_model_module": "@jupyter-widgets/controls",
            "_model_module_version": "1.5.0",
            "_model_name": "FloatProgressModel",
            "_view_count": null,
            "_view_module": "@jupyter-widgets/controls",
            "_view_module_version": "1.5.0",
            "_view_name": "ProgressView",
            "bar_style": "success",
            "description": "",
            "description_tooltip": null,
            "layout": "IPY_MODEL_11055a30262440969d4ce8c4dc90917c",
            "max": 1042301,
            "min": 0,
            "orientation": "horizontal",
            "style": "IPY_MODEL_c7329f5013ff4619960befeaf38e19ff",
            "value": 1042301
          }
        },
        "e59e0401fe174740bd5546851469c7e3": {
          "model_module": "@jupyter-widgets/controls",
          "model_name": "HTMLModel",
          "model_module_version": "1.5.0",
          "state": {
            "_dom_classes": [],
            "_model_module": "@jupyter-widgets/controls",
            "_model_module_version": "1.5.0",
            "_model_name": "HTMLModel",
            "_view_count": null,
            "_view_module": "@jupyter-widgets/controls",
            "_view_module_version": "1.5.0",
            "_view_name": "HTMLView",
            "description": "",
            "description_tooltip": null,
            "layout": "IPY_MODEL_003e9eff8e224ffbade028f62fb628c4",
            "placeholder": "​",
            "style": "IPY_MODEL_1eaec5702b504deeace5bfe72d5bc5b5",
            "value": " 1.04M/1.04M [00:00&lt;00:00, 6.92MB/s]"
          }
        },
        "e40d04e0d03344a2ab8bec83bf00d6f2": {
          "model_module": "@jupyter-widgets/base",
          "model_name": "LayoutModel",
          "model_module_version": "1.2.0",
          "state": {
            "_model_module": "@jupyter-widgets/base",
            "_model_module_version": "1.2.0",
            "_model_name": "LayoutModel",
            "_view_count": null,
            "_view_module": "@jupyter-widgets/base",
            "_view_module_version": "1.2.0",
            "_view_name": "LayoutView",
            "align_content": null,
            "align_items": null,
            "align_self": null,
            "border": null,
            "bottom": null,
            "display": null,
            "flex": null,
            "flex_flow": null,
            "grid_area": null,
            "grid_auto_columns": null,
            "grid_auto_flow": null,
            "grid_auto_rows": null,
            "grid_column": null,
            "grid_gap": null,
            "grid_row": null,
            "grid_template_areas": null,
            "grid_template_columns": null,
            "grid_template_rows": null,
            "height": null,
            "justify_content": null,
            "justify_items": null,
            "left": null,
            "margin": null,
            "max_height": null,
            "max_width": null,
            "min_height": null,
            "min_width": null,
            "object_fit": null,
            "object_position": null,
            "order": null,
            "overflow": null,
            "overflow_x": null,
            "overflow_y": null,
            "padding": null,
            "right": null,
            "top": null,
            "visibility": null,
            "width": null
          }
        },
        "8f7bb9cf34ff4e9ca007faa0857f66fb": {
          "model_module": "@jupyter-widgets/base",
          "model_name": "LayoutModel",
          "model_module_version": "1.2.0",
          "state": {
            "_model_module": "@jupyter-widgets/base",
            "_model_module_version": "1.2.0",
            "_model_name": "LayoutModel",
            "_view_count": null,
            "_view_module": "@jupyter-widgets/base",
            "_view_module_version": "1.2.0",
            "_view_name": "LayoutView",
            "align_content": null,
            "align_items": null,
            "align_self": null,
            "border": null,
            "bottom": null,
            "display": null,
            "flex": null,
            "flex_flow": null,
            "grid_area": null,
            "grid_auto_columns": null,
            "grid_auto_flow": null,
            "grid_auto_rows": null,
            "grid_column": null,
            "grid_gap": null,
            "grid_row": null,
            "grid_template_areas": null,
            "grid_template_columns": null,
            "grid_template_rows": null,
            "height": null,
            "justify_content": null,
            "justify_items": null,
            "left": null,
            "margin": null,
            "max_height": null,
            "max_width": null,
            "min_height": null,
            "min_width": null,
            "object_fit": null,
            "object_position": null,
            "order": null,
            "overflow": null,
            "overflow_x": null,
            "overflow_y": null,
            "padding": null,
            "right": null,
            "top": null,
            "visibility": null,
            "width": null
          }
        },
        "d61648dc97364384b0663e32a4ea9d4e": {
          "model_module": "@jupyter-widgets/controls",
          "model_name": "DescriptionStyleModel",
          "model_module_version": "1.5.0",
          "state": {
            "_model_module": "@jupyter-widgets/controls",
            "_model_module_version": "1.5.0",
            "_model_name": "DescriptionStyleModel",
            "_view_count": null,
            "_view_module": "@jupyter-widgets/base",
            "_view_module_version": "1.2.0",
            "_view_name": "StyleView",
            "description_width": ""
          }
        },
        "11055a30262440969d4ce8c4dc90917c": {
          "model_module": "@jupyter-widgets/base",
          "model_name": "LayoutModel",
          "model_module_version": "1.2.0",
          "state": {
            "_model_module": "@jupyter-widgets/base",
            "_model_module_version": "1.2.0",
            "_model_name": "LayoutModel",
            "_view_count": null,
            "_view_module": "@jupyter-widgets/base",
            "_view_module_version": "1.2.0",
            "_view_name": "LayoutView",
            "align_content": null,
            "align_items": null,
            "align_self": null,
            "border": null,
            "bottom": null,
            "display": null,
            "flex": null,
            "flex_flow": null,
            "grid_area": null,
            "grid_auto_columns": null,
            "grid_auto_flow": null,
            "grid_auto_rows": null,
            "grid_column": null,
            "grid_gap": null,
            "grid_row": null,
            "grid_template_areas": null,
            "grid_template_columns": null,
            "grid_template_rows": null,
            "height": null,
            "justify_content": null,
            "justify_items": null,
            "left": null,
            "margin": null,
            "max_height": null,
            "max_width": null,
            "min_height": null,
            "min_width": null,
            "object_fit": null,
            "object_position": null,
            "order": null,
            "overflow": null,
            "overflow_x": null,
            "overflow_y": null,
            "padding": null,
            "right": null,
            "top": null,
            "visibility": null,
            "width": null
          }
        },
        "c7329f5013ff4619960befeaf38e19ff": {
          "model_module": "@jupyter-widgets/controls",
          "model_name": "ProgressStyleModel",
          "model_module_version": "1.5.0",
          "state": {
            "_model_module": "@jupyter-widgets/controls",
            "_model_module_version": "1.5.0",
            "_model_name": "ProgressStyleModel",
            "_view_count": null,
            "_view_module": "@jupyter-widgets/base",
            "_view_module_version": "1.2.0",
            "_view_name": "StyleView",
            "bar_color": null,
            "description_width": ""
          }
        },
        "003e9eff8e224ffbade028f62fb628c4": {
          "model_module": "@jupyter-widgets/base",
          "model_name": "LayoutModel",
          "model_module_version": "1.2.0",
          "state": {
            "_model_module": "@jupyter-widgets/base",
            "_model_module_version": "1.2.0",
            "_model_name": "LayoutModel",
            "_view_count": null,
            "_view_module": "@jupyter-widgets/base",
            "_view_module_version": "1.2.0",
            "_view_name": "LayoutView",
            "align_content": null,
            "align_items": null,
            "align_self": null,
            "border": null,
            "bottom": null,
            "display": null,
            "flex": null,
            "flex_flow": null,
            "grid_area": null,
            "grid_auto_columns": null,
            "grid_auto_flow": null,
            "grid_auto_rows": null,
            "grid_column": null,
            "grid_gap": null,
            "grid_row": null,
            "grid_template_areas": null,
            "grid_template_columns": null,
            "grid_template_rows": null,
            "height": null,
            "justify_content": null,
            "justify_items": null,
            "left": null,
            "margin": null,
            "max_height": null,
            "max_width": null,
            "min_height": null,
            "min_width": null,
            "object_fit": null,
            "object_position": null,
            "order": null,
            "overflow": null,
            "overflow_x": null,
            "overflow_y": null,
            "padding": null,
            "right": null,
            "top": null,
            "visibility": null,
            "width": null
          }
        },
        "1eaec5702b504deeace5bfe72d5bc5b5": {
          "model_module": "@jupyter-widgets/controls",
          "model_name": "DescriptionStyleModel",
          "model_module_version": "1.5.0",
          "state": {
            "_model_module": "@jupyter-widgets/controls",
            "_model_module_version": "1.5.0",
            "_model_name": "DescriptionStyleModel",
            "_view_count": null,
            "_view_module": "@jupyter-widgets/base",
            "_view_module_version": "1.2.0",
            "_view_name": "StyleView",
            "description_width": ""
          }
        },
        "97f7e07ec4a84576bab5cd6c7b14a3d8": {
          "model_module": "@jupyter-widgets/controls",
          "model_name": "HBoxModel",
          "model_module_version": "1.5.0",
          "state": {
            "_dom_classes": [],
            "_model_module": "@jupyter-widgets/controls",
            "_model_module_version": "1.5.0",
            "_model_name": "HBoxModel",
            "_view_count": null,
            "_view_module": "@jupyter-widgets/controls",
            "_view_module_version": "1.5.0",
            "_view_name": "HBoxView",
            "box_style": "",
            "children": [
              "IPY_MODEL_da5f275736f2456db7c3930a8cf2461a",
              "IPY_MODEL_4ef65d0f767c40739b7b0015f645a27e",
              "IPY_MODEL_942881af480f4120bfa3b3449071641a"
            ],
            "layout": "IPY_MODEL_8797c257be0641ba90dc4ff4914a4955"
          }
        },
        "da5f275736f2456db7c3930a8cf2461a": {
          "model_module": "@jupyter-widgets/controls",
          "model_name": "HTMLModel",
          "model_module_version": "1.5.0",
          "state": {
            "_dom_classes": [],
            "_model_module": "@jupyter-widgets/controls",
            "_model_module_version": "1.5.0",
            "_model_name": "HTMLModel",
            "_view_count": null,
            "_view_module": "@jupyter-widgets/controls",
            "_view_module_version": "1.5.0",
            "_view_name": "HTMLView",
            "description": "",
            "description_tooltip": null,
            "layout": "IPY_MODEL_214d7b57223140118bcd4a4e9924e192",
            "placeholder": "​",
            "style": "IPY_MODEL_4600d8328f7a41a98b2d4228ca89b546",
            "value": "merges.txt: 100%"
          }
        },
        "4ef65d0f767c40739b7b0015f645a27e": {
          "model_module": "@jupyter-widgets/controls",
          "model_name": "FloatProgressModel",
          "model_module_version": "1.5.0",
          "state": {
            "_dom_classes": [],
            "_model_module": "@jupyter-widgets/controls",
            "_model_module_version": "1.5.0",
            "_model_name": "FloatProgressModel",
            "_view_count": null,
            "_view_module": "@jupyter-widgets/controls",
            "_view_module_version": "1.5.0",
            "_view_name": "ProgressView",
            "bar_style": "success",
            "description": "",
            "description_tooltip": null,
            "layout": "IPY_MODEL_439851e1972d46c9a3813a8dbe05807f",
            "max": 456318,
            "min": 0,
            "orientation": "horizontal",
            "style": "IPY_MODEL_adca5e00714a4868abcb4640c5f86484",
            "value": 456318
          }
        },
        "942881af480f4120bfa3b3449071641a": {
          "model_module": "@jupyter-widgets/controls",
          "model_name": "HTMLModel",
          "model_module_version": "1.5.0",
          "state": {
            "_dom_classes": [],
            "_model_module": "@jupyter-widgets/controls",
            "_model_module_version": "1.5.0",
            "_model_name": "HTMLModel",
            "_view_count": null,
            "_view_module": "@jupyter-widgets/controls",
            "_view_module_version": "1.5.0",
            "_view_name": "HTMLView",
            "description": "",
            "description_tooltip": null,
            "layout": "IPY_MODEL_0e9ef20168244dce96b1bbf78403e3fa",
            "placeholder": "​",
            "style": "IPY_MODEL_79424da8aa2d40d093e87a0ad552d7cc",
            "value": " 456k/456k [00:00&lt;00:00, 12.8MB/s]"
          }
        },
        "8797c257be0641ba90dc4ff4914a4955": {
          "model_module": "@jupyter-widgets/base",
          "model_name": "LayoutModel",
          "model_module_version": "1.2.0",
          "state": {
            "_model_module": "@jupyter-widgets/base",
            "_model_module_version": "1.2.0",
            "_model_name": "LayoutModel",
            "_view_count": null,
            "_view_module": "@jupyter-widgets/base",
            "_view_module_version": "1.2.0",
            "_view_name": "LayoutView",
            "align_content": null,
            "align_items": null,
            "align_self": null,
            "border": null,
            "bottom": null,
            "display": null,
            "flex": null,
            "flex_flow": null,
            "grid_area": null,
            "grid_auto_columns": null,
            "grid_auto_flow": null,
            "grid_auto_rows": null,
            "grid_column": null,
            "grid_gap": null,
            "grid_row": null,
            "grid_template_areas": null,
            "grid_template_columns": null,
            "grid_template_rows": null,
            "height": null,
            "justify_content": null,
            "justify_items": null,
            "left": null,
            "margin": null,
            "max_height": null,
            "max_width": null,
            "min_height": null,
            "min_width": null,
            "object_fit": null,
            "object_position": null,
            "order": null,
            "overflow": null,
            "overflow_x": null,
            "overflow_y": null,
            "padding": null,
            "right": null,
            "top": null,
            "visibility": null,
            "width": null
          }
        },
        "214d7b57223140118bcd4a4e9924e192": {
          "model_module": "@jupyter-widgets/base",
          "model_name": "LayoutModel",
          "model_module_version": "1.2.0",
          "state": {
            "_model_module": "@jupyter-widgets/base",
            "_model_module_version": "1.2.0",
            "_model_name": "LayoutModel",
            "_view_count": null,
            "_view_module": "@jupyter-widgets/base",
            "_view_module_version": "1.2.0",
            "_view_name": "LayoutView",
            "align_content": null,
            "align_items": null,
            "align_self": null,
            "border": null,
            "bottom": null,
            "display": null,
            "flex": null,
            "flex_flow": null,
            "grid_area": null,
            "grid_auto_columns": null,
            "grid_auto_flow": null,
            "grid_auto_rows": null,
            "grid_column": null,
            "grid_gap": null,
            "grid_row": null,
            "grid_template_areas": null,
            "grid_template_columns": null,
            "grid_template_rows": null,
            "height": null,
            "justify_content": null,
            "justify_items": null,
            "left": null,
            "margin": null,
            "max_height": null,
            "max_width": null,
            "min_height": null,
            "min_width": null,
            "object_fit": null,
            "object_position": null,
            "order": null,
            "overflow": null,
            "overflow_x": null,
            "overflow_y": null,
            "padding": null,
            "right": null,
            "top": null,
            "visibility": null,
            "width": null
          }
        },
        "4600d8328f7a41a98b2d4228ca89b546": {
          "model_module": "@jupyter-widgets/controls",
          "model_name": "DescriptionStyleModel",
          "model_module_version": "1.5.0",
          "state": {
            "_model_module": "@jupyter-widgets/controls",
            "_model_module_version": "1.5.0",
            "_model_name": "DescriptionStyleModel",
            "_view_count": null,
            "_view_module": "@jupyter-widgets/base",
            "_view_module_version": "1.2.0",
            "_view_name": "StyleView",
            "description_width": ""
          }
        },
        "439851e1972d46c9a3813a8dbe05807f": {
          "model_module": "@jupyter-widgets/base",
          "model_name": "LayoutModel",
          "model_module_version": "1.2.0",
          "state": {
            "_model_module": "@jupyter-widgets/base",
            "_model_module_version": "1.2.0",
            "_model_name": "LayoutModel",
            "_view_count": null,
            "_view_module": "@jupyter-widgets/base",
            "_view_module_version": "1.2.0",
            "_view_name": "LayoutView",
            "align_content": null,
            "align_items": null,
            "align_self": null,
            "border": null,
            "bottom": null,
            "display": null,
            "flex": null,
            "flex_flow": null,
            "grid_area": null,
            "grid_auto_columns": null,
            "grid_auto_flow": null,
            "grid_auto_rows": null,
            "grid_column": null,
            "grid_gap": null,
            "grid_row": null,
            "grid_template_areas": null,
            "grid_template_columns": null,
            "grid_template_rows": null,
            "height": null,
            "justify_content": null,
            "justify_items": null,
            "left": null,
            "margin": null,
            "max_height": null,
            "max_width": null,
            "min_height": null,
            "min_width": null,
            "object_fit": null,
            "object_position": null,
            "order": null,
            "overflow": null,
            "overflow_x": null,
            "overflow_y": null,
            "padding": null,
            "right": null,
            "top": null,
            "visibility": null,
            "width": null
          }
        },
        "adca5e00714a4868abcb4640c5f86484": {
          "model_module": "@jupyter-widgets/controls",
          "model_name": "ProgressStyleModel",
          "model_module_version": "1.5.0",
          "state": {
            "_model_module": "@jupyter-widgets/controls",
            "_model_module_version": "1.5.0",
            "_model_name": "ProgressStyleModel",
            "_view_count": null,
            "_view_module": "@jupyter-widgets/base",
            "_view_module_version": "1.2.0",
            "_view_name": "StyleView",
            "bar_color": null,
            "description_width": ""
          }
        },
        "0e9ef20168244dce96b1bbf78403e3fa": {
          "model_module": "@jupyter-widgets/base",
          "model_name": "LayoutModel",
          "model_module_version": "1.2.0",
          "state": {
            "_model_module": "@jupyter-widgets/base",
            "_model_module_version": "1.2.0",
            "_model_name": "LayoutModel",
            "_view_count": null,
            "_view_module": "@jupyter-widgets/base",
            "_view_module_version": "1.2.0",
            "_view_name": "LayoutView",
            "align_content": null,
            "align_items": null,
            "align_self": null,
            "border": null,
            "bottom": null,
            "display": null,
            "flex": null,
            "flex_flow": null,
            "grid_area": null,
            "grid_auto_columns": null,
            "grid_auto_flow": null,
            "grid_auto_rows": null,
            "grid_column": null,
            "grid_gap": null,
            "grid_row": null,
            "grid_template_areas": null,
            "grid_template_columns": null,
            "grid_template_rows": null,
            "height": null,
            "justify_content": null,
            "justify_items": null,
            "left": null,
            "margin": null,
            "max_height": null,
            "max_width": null,
            "min_height": null,
            "min_width": null,
            "object_fit": null,
            "object_position": null,
            "order": null,
            "overflow": null,
            "overflow_x": null,
            "overflow_y": null,
            "padding": null,
            "right": null,
            "top": null,
            "visibility": null,
            "width": null
          }
        },
        "79424da8aa2d40d093e87a0ad552d7cc": {
          "model_module": "@jupyter-widgets/controls",
          "model_name": "DescriptionStyleModel",
          "model_module_version": "1.5.0",
          "state": {
            "_model_module": "@jupyter-widgets/controls",
            "_model_module_version": "1.5.0",
            "_model_name": "DescriptionStyleModel",
            "_view_count": null,
            "_view_module": "@jupyter-widgets/base",
            "_view_module_version": "1.2.0",
            "_view_name": "StyleView",
            "description_width": ""
          }
        },
        "8b4106b733c949a1ae2a39def997d018": {
          "model_module": "@jupyter-widgets/controls",
          "model_name": "HBoxModel",
          "model_module_version": "1.5.0",
          "state": {
            "_dom_classes": [],
            "_model_module": "@jupyter-widgets/controls",
            "_model_module_version": "1.5.0",
            "_model_name": "HBoxModel",
            "_view_count": null,
            "_view_module": "@jupyter-widgets/controls",
            "_view_module_version": "1.5.0",
            "_view_name": "HBoxView",
            "box_style": "",
            "children": [
              "IPY_MODEL_2423e98e6caf44bcaa9d51c51a6e6c41",
              "IPY_MODEL_d589e298e86f47ec9cd675c20bad4c9a",
              "IPY_MODEL_8774811a516845a5b34565d6f9efb0d9"
            ],
            "layout": "IPY_MODEL_125a01b31a17490da273e0cdbc144512"
          }
        },
        "2423e98e6caf44bcaa9d51c51a6e6c41": {
          "model_module": "@jupyter-widgets/controls",
          "model_name": "HTMLModel",
          "model_module_version": "1.5.0",
          "state": {
            "_dom_classes": [],
            "_model_module": "@jupyter-widgets/controls",
            "_model_module_version": "1.5.0",
            "_model_name": "HTMLModel",
            "_view_count": null,
            "_view_module": "@jupyter-widgets/controls",
            "_view_module_version": "1.5.0",
            "_view_name": "HTMLView",
            "description": "",
            "description_tooltip": null,
            "layout": "IPY_MODEL_b0ca7a2f75524e3781de17218e82aecb",
            "placeholder": "​",
            "style": "IPY_MODEL_d8ee34122dc54a989b1b790d1da255ba",
            "value": "tokenizer.json: 100%"
          }
        },
        "d589e298e86f47ec9cd675c20bad4c9a": {
          "model_module": "@jupyter-widgets/controls",
          "model_name": "FloatProgressModel",
          "model_module_version": "1.5.0",
          "state": {
            "_dom_classes": [],
            "_model_module": "@jupyter-widgets/controls",
            "_model_module_version": "1.5.0",
            "_model_name": "FloatProgressModel",
            "_view_count": null,
            "_view_module": "@jupyter-widgets/controls",
            "_view_module_version": "1.5.0",
            "_view_name": "ProgressView",
            "bar_style": "success",
            "description": "",
            "description_tooltip": null,
            "layout": "IPY_MODEL_2cb36e67b7384b66afa1edf458190006",
            "max": 1355256,
            "min": 0,
            "orientation": "horizontal",
            "style": "IPY_MODEL_1864378565c3427491f8da754f151e61",
            "value": 1355256
          }
        },
        "8774811a516845a5b34565d6f9efb0d9": {
          "model_module": "@jupyter-widgets/controls",
          "model_name": "HTMLModel",
          "model_module_version": "1.5.0",
          "state": {
            "_dom_classes": [],
            "_model_module": "@jupyter-widgets/controls",
            "_model_module_version": "1.5.0",
            "_model_name": "HTMLModel",
            "_view_count": null,
            "_view_module": "@jupyter-widgets/controls",
            "_view_module_version": "1.5.0",
            "_view_name": "HTMLView",
            "description": "",
            "description_tooltip": null,
            "layout": "IPY_MODEL_a8bd5623193e43de97ff95202052a30f",
            "placeholder": "​",
            "style": "IPY_MODEL_7bc2f61d10b3451e96c30f8fb61235b6",
            "value": " 1.36M/1.36M [00:00&lt;00:00, 20.3MB/s]"
          }
        },
        "125a01b31a17490da273e0cdbc144512": {
          "model_module": "@jupyter-widgets/base",
          "model_name": "LayoutModel",
          "model_module_version": "1.2.0",
          "state": {
            "_model_module": "@jupyter-widgets/base",
            "_model_module_version": "1.2.0",
            "_model_name": "LayoutModel",
            "_view_count": null,
            "_view_module": "@jupyter-widgets/base",
            "_view_module_version": "1.2.0",
            "_view_name": "LayoutView",
            "align_content": null,
            "align_items": null,
            "align_self": null,
            "border": null,
            "bottom": null,
            "display": null,
            "flex": null,
            "flex_flow": null,
            "grid_area": null,
            "grid_auto_columns": null,
            "grid_auto_flow": null,
            "grid_auto_rows": null,
            "grid_column": null,
            "grid_gap": null,
            "grid_row": null,
            "grid_template_areas": null,
            "grid_template_columns": null,
            "grid_template_rows": null,
            "height": null,
            "justify_content": null,
            "justify_items": null,
            "left": null,
            "margin": null,
            "max_height": null,
            "max_width": null,
            "min_height": null,
            "min_width": null,
            "object_fit": null,
            "object_position": null,
            "order": null,
            "overflow": null,
            "overflow_x": null,
            "overflow_y": null,
            "padding": null,
            "right": null,
            "top": null,
            "visibility": null,
            "width": null
          }
        },
        "b0ca7a2f75524e3781de17218e82aecb": {
          "model_module": "@jupyter-widgets/base",
          "model_name": "LayoutModel",
          "model_module_version": "1.2.0",
          "state": {
            "_model_module": "@jupyter-widgets/base",
            "_model_module_version": "1.2.0",
            "_model_name": "LayoutModel",
            "_view_count": null,
            "_view_module": "@jupyter-widgets/base",
            "_view_module_version": "1.2.0",
            "_view_name": "LayoutView",
            "align_content": null,
            "align_items": null,
            "align_self": null,
            "border": null,
            "bottom": null,
            "display": null,
            "flex": null,
            "flex_flow": null,
            "grid_area": null,
            "grid_auto_columns": null,
            "grid_auto_flow": null,
            "grid_auto_rows": null,
            "grid_column": null,
            "grid_gap": null,
            "grid_row": null,
            "grid_template_areas": null,
            "grid_template_columns": null,
            "grid_template_rows": null,
            "height": null,
            "justify_content": null,
            "justify_items": null,
            "left": null,
            "margin": null,
            "max_height": null,
            "max_width": null,
            "min_height": null,
            "min_width": null,
            "object_fit": null,
            "object_position": null,
            "order": null,
            "overflow": null,
            "overflow_x": null,
            "overflow_y": null,
            "padding": null,
            "right": null,
            "top": null,
            "visibility": null,
            "width": null
          }
        },
        "d8ee34122dc54a989b1b790d1da255ba": {
          "model_module": "@jupyter-widgets/controls",
          "model_name": "DescriptionStyleModel",
          "model_module_version": "1.5.0",
          "state": {
            "_model_module": "@jupyter-widgets/controls",
            "_model_module_version": "1.5.0",
            "_model_name": "DescriptionStyleModel",
            "_view_count": null,
            "_view_module": "@jupyter-widgets/base",
            "_view_module_version": "1.2.0",
            "_view_name": "StyleView",
            "description_width": ""
          }
        },
        "2cb36e67b7384b66afa1edf458190006": {
          "model_module": "@jupyter-widgets/base",
          "model_name": "LayoutModel",
          "model_module_version": "1.2.0",
          "state": {
            "_model_module": "@jupyter-widgets/base",
            "_model_module_version": "1.2.0",
            "_model_name": "LayoutModel",
            "_view_count": null,
            "_view_module": "@jupyter-widgets/base",
            "_view_module_version": "1.2.0",
            "_view_name": "LayoutView",
            "align_content": null,
            "align_items": null,
            "align_self": null,
            "border": null,
            "bottom": null,
            "display": null,
            "flex": null,
            "flex_flow": null,
            "grid_area": null,
            "grid_auto_columns": null,
            "grid_auto_flow": null,
            "grid_auto_rows": null,
            "grid_column": null,
            "grid_gap": null,
            "grid_row": null,
            "grid_template_areas": null,
            "grid_template_columns": null,
            "grid_template_rows": null,
            "height": null,
            "justify_content": null,
            "justify_items": null,
            "left": null,
            "margin": null,
            "max_height": null,
            "max_width": null,
            "min_height": null,
            "min_width": null,
            "object_fit": null,
            "object_position": null,
            "order": null,
            "overflow": null,
            "overflow_x": null,
            "overflow_y": null,
            "padding": null,
            "right": null,
            "top": null,
            "visibility": null,
            "width": null
          }
        },
        "1864378565c3427491f8da754f151e61": {
          "model_module": "@jupyter-widgets/controls",
          "model_name": "ProgressStyleModel",
          "model_module_version": "1.5.0",
          "state": {
            "_model_module": "@jupyter-widgets/controls",
            "_model_module_version": "1.5.0",
            "_model_name": "ProgressStyleModel",
            "_view_count": null,
            "_view_module": "@jupyter-widgets/base",
            "_view_module_version": "1.2.0",
            "_view_name": "StyleView",
            "bar_color": null,
            "description_width": ""
          }
        },
        "a8bd5623193e43de97ff95202052a30f": {
          "model_module": "@jupyter-widgets/base",
          "model_name": "LayoutModel",
          "model_module_version": "1.2.0",
          "state": {
            "_model_module": "@jupyter-widgets/base",
            "_model_module_version": "1.2.0",
            "_model_name": "LayoutModel",
            "_view_count": null,
            "_view_module": "@jupyter-widgets/base",
            "_view_module_version": "1.2.0",
            "_view_name": "LayoutView",
            "align_content": null,
            "align_items": null,
            "align_self": null,
            "border": null,
            "bottom": null,
            "display": null,
            "flex": null,
            "flex_flow": null,
            "grid_area": null,
            "grid_auto_columns": null,
            "grid_auto_flow": null,
            "grid_auto_rows": null,
            "grid_column": null,
            "grid_gap": null,
            "grid_row": null,
            "grid_template_areas": null,
            "grid_template_columns": null,
            "grid_template_rows": null,
            "height": null,
            "justify_content": null,
            "justify_items": null,
            "left": null,
            "margin": null,
            "max_height": null,
            "max_width": null,
            "min_height": null,
            "min_width": null,
            "object_fit": null,
            "object_position": null,
            "order": null,
            "overflow": null,
            "overflow_x": null,
            "overflow_y": null,
            "padding": null,
            "right": null,
            "top": null,
            "visibility": null,
            "width": null
          }
        },
        "7bc2f61d10b3451e96c30f8fb61235b6": {
          "model_module": "@jupyter-widgets/controls",
          "model_name": "DescriptionStyleModel",
          "model_module_version": "1.5.0",
          "state": {
            "_model_module": "@jupyter-widgets/controls",
            "_model_module_version": "1.5.0",
            "_model_name": "DescriptionStyleModel",
            "_view_count": null,
            "_view_module": "@jupyter-widgets/base",
            "_view_module_version": "1.2.0",
            "_view_name": "StyleView",
            "description_width": ""
          }
        },
        "9b55d93447a04c0d93dc5fdba9c8cd49": {
          "model_module": "@jupyter-widgets/controls",
          "model_name": "HBoxModel",
          "model_module_version": "1.5.0",
          "state": {
            "_dom_classes": [],
            "_model_module": "@jupyter-widgets/controls",
            "_model_module_version": "1.5.0",
            "_model_name": "HBoxModel",
            "_view_count": null,
            "_view_module": "@jupyter-widgets/controls",
            "_view_module_version": "1.5.0",
            "_view_name": "HBoxView",
            "box_style": "",
            "children": [
              "IPY_MODEL_d9bb430775f94b84bdd55f5bbeeed6d3",
              "IPY_MODEL_e7289adbde884fd1a4dcfbb0004a8811",
              "IPY_MODEL_efaac024c04d4ac4b13981c7f3b38c4e"
            ],
            "layout": "IPY_MODEL_3cecabfb9c4a48aa8d2be55f8e0405d1"
          }
        },
        "d9bb430775f94b84bdd55f5bbeeed6d3": {
          "model_module": "@jupyter-widgets/controls",
          "model_name": "HTMLModel",
          "model_module_version": "1.5.0",
          "state": {
            "_dom_classes": [],
            "_model_module": "@jupyter-widgets/controls",
            "_model_module_version": "1.5.0",
            "_model_name": "HTMLModel",
            "_view_count": null,
            "_view_module": "@jupyter-widgets/controls",
            "_view_module_version": "1.5.0",
            "_view_name": "HTMLView",
            "description": "",
            "description_tooltip": null,
            "layout": "IPY_MODEL_2b15d6c0d47a41ff8bc6f23dd932db9e",
            "placeholder": "​",
            "style": "IPY_MODEL_08612f1eca884a1baacd7ca94c4acaaf",
            "value": "config.json: 100%"
          }
        },
        "e7289adbde884fd1a4dcfbb0004a8811": {
          "model_module": "@jupyter-widgets/controls",
          "model_name": "FloatProgressModel",
          "model_module_version": "1.5.0",
          "state": {
            "_dom_classes": [],
            "_model_module": "@jupyter-widgets/controls",
            "_model_module_version": "1.5.0",
            "_model_name": "FloatProgressModel",
            "_view_count": null,
            "_view_module": "@jupyter-widgets/controls",
            "_view_module_version": "1.5.0",
            "_view_name": "ProgressView",
            "bar_style": "success",
            "description": "",
            "description_tooltip": null,
            "layout": "IPY_MODEL_13da002a24c540f086155a63b4395b25",
            "max": 665,
            "min": 0,
            "orientation": "horizontal",
            "style": "IPY_MODEL_51d35e3260a04fcbaedb2b9eb76f8c19",
            "value": 665
          }
        },
        "efaac024c04d4ac4b13981c7f3b38c4e": {
          "model_module": "@jupyter-widgets/controls",
          "model_name": "HTMLModel",
          "model_module_version": "1.5.0",
          "state": {
            "_dom_classes": [],
            "_model_module": "@jupyter-widgets/controls",
            "_model_module_version": "1.5.0",
            "_model_name": "HTMLModel",
            "_view_count": null,
            "_view_module": "@jupyter-widgets/controls",
            "_view_module_version": "1.5.0",
            "_view_name": "HTMLView",
            "description": "",
            "description_tooltip": null,
            "layout": "IPY_MODEL_23e04c2b8d3642d2835cc569c2bc4790",
            "placeholder": "​",
            "style": "IPY_MODEL_6e84b263a68d463c88a17a90977bd337",
            "value": " 665/665 [00:00&lt;00:00, 24.3kB/s]"
          }
        },
        "3cecabfb9c4a48aa8d2be55f8e0405d1": {
          "model_module": "@jupyter-widgets/base",
          "model_name": "LayoutModel",
          "model_module_version": "1.2.0",
          "state": {
            "_model_module": "@jupyter-widgets/base",
            "_model_module_version": "1.2.0",
            "_model_name": "LayoutModel",
            "_view_count": null,
            "_view_module": "@jupyter-widgets/base",
            "_view_module_version": "1.2.0",
            "_view_name": "LayoutView",
            "align_content": null,
            "align_items": null,
            "align_self": null,
            "border": null,
            "bottom": null,
            "display": null,
            "flex": null,
            "flex_flow": null,
            "grid_area": null,
            "grid_auto_columns": null,
            "grid_auto_flow": null,
            "grid_auto_rows": null,
            "grid_column": null,
            "grid_gap": null,
            "grid_row": null,
            "grid_template_areas": null,
            "grid_template_columns": null,
            "grid_template_rows": null,
            "height": null,
            "justify_content": null,
            "justify_items": null,
            "left": null,
            "margin": null,
            "max_height": null,
            "max_width": null,
            "min_height": null,
            "min_width": null,
            "object_fit": null,
            "object_position": null,
            "order": null,
            "overflow": null,
            "overflow_x": null,
            "overflow_y": null,
            "padding": null,
            "right": null,
            "top": null,
            "visibility": null,
            "width": null
          }
        },
        "2b15d6c0d47a41ff8bc6f23dd932db9e": {
          "model_module": "@jupyter-widgets/base",
          "model_name": "LayoutModel",
          "model_module_version": "1.2.0",
          "state": {
            "_model_module": "@jupyter-widgets/base",
            "_model_module_version": "1.2.0",
            "_model_name": "LayoutModel",
            "_view_count": null,
            "_view_module": "@jupyter-widgets/base",
            "_view_module_version": "1.2.0",
            "_view_name": "LayoutView",
            "align_content": null,
            "align_items": null,
            "align_self": null,
            "border": null,
            "bottom": null,
            "display": null,
            "flex": null,
            "flex_flow": null,
            "grid_area": null,
            "grid_auto_columns": null,
            "grid_auto_flow": null,
            "grid_auto_rows": null,
            "grid_column": null,
            "grid_gap": null,
            "grid_row": null,
            "grid_template_areas": null,
            "grid_template_columns": null,
            "grid_template_rows": null,
            "height": null,
            "justify_content": null,
            "justify_items": null,
            "left": null,
            "margin": null,
            "max_height": null,
            "max_width": null,
            "min_height": null,
            "min_width": null,
            "object_fit": null,
            "object_position": null,
            "order": null,
            "overflow": null,
            "overflow_x": null,
            "overflow_y": null,
            "padding": null,
            "right": null,
            "top": null,
            "visibility": null,
            "width": null
          }
        },
        "08612f1eca884a1baacd7ca94c4acaaf": {
          "model_module": "@jupyter-widgets/controls",
          "model_name": "DescriptionStyleModel",
          "model_module_version": "1.5.0",
          "state": {
            "_model_module": "@jupyter-widgets/controls",
            "_model_module_version": "1.5.0",
            "_model_name": "DescriptionStyleModel",
            "_view_count": null,
            "_view_module": "@jupyter-widgets/base",
            "_view_module_version": "1.2.0",
            "_view_name": "StyleView",
            "description_width": ""
          }
        },
        "13da002a24c540f086155a63b4395b25": {
          "model_module": "@jupyter-widgets/base",
          "model_name": "LayoutModel",
          "model_module_version": "1.2.0",
          "state": {
            "_model_module": "@jupyter-widgets/base",
            "_model_module_version": "1.2.0",
            "_model_name": "LayoutModel",
            "_view_count": null,
            "_view_module": "@jupyter-widgets/base",
            "_view_module_version": "1.2.0",
            "_view_name": "LayoutView",
            "align_content": null,
            "align_items": null,
            "align_self": null,
            "border": null,
            "bottom": null,
            "display": null,
            "flex": null,
            "flex_flow": null,
            "grid_area": null,
            "grid_auto_columns": null,
            "grid_auto_flow": null,
            "grid_auto_rows": null,
            "grid_column": null,
            "grid_gap": null,
            "grid_row": null,
            "grid_template_areas": null,
            "grid_template_columns": null,
            "grid_template_rows": null,
            "height": null,
            "justify_content": null,
            "justify_items": null,
            "left": null,
            "margin": null,
            "max_height": null,
            "max_width": null,
            "min_height": null,
            "min_width": null,
            "object_fit": null,
            "object_position": null,
            "order": null,
            "overflow": null,
            "overflow_x": null,
            "overflow_y": null,
            "padding": null,
            "right": null,
            "top": null,
            "visibility": null,
            "width": null
          }
        },
        "51d35e3260a04fcbaedb2b9eb76f8c19": {
          "model_module": "@jupyter-widgets/controls",
          "model_name": "ProgressStyleModel",
          "model_module_version": "1.5.0",
          "state": {
            "_model_module": "@jupyter-widgets/controls",
            "_model_module_version": "1.5.0",
            "_model_name": "ProgressStyleModel",
            "_view_count": null,
            "_view_module": "@jupyter-widgets/base",
            "_view_module_version": "1.2.0",
            "_view_name": "StyleView",
            "bar_color": null,
            "description_width": ""
          }
        },
        "23e04c2b8d3642d2835cc569c2bc4790": {
          "model_module": "@jupyter-widgets/base",
          "model_name": "LayoutModel",
          "model_module_version": "1.2.0",
          "state": {
            "_model_module": "@jupyter-widgets/base",
            "_model_module_version": "1.2.0",
            "_model_name": "LayoutModel",
            "_view_count": null,
            "_view_module": "@jupyter-widgets/base",
            "_view_module_version": "1.2.0",
            "_view_name": "LayoutView",
            "align_content": null,
            "align_items": null,
            "align_self": null,
            "border": null,
            "bottom": null,
            "display": null,
            "flex": null,
            "flex_flow": null,
            "grid_area": null,
            "grid_auto_columns": null,
            "grid_auto_flow": null,
            "grid_auto_rows": null,
            "grid_column": null,
            "grid_gap": null,
            "grid_row": null,
            "grid_template_areas": null,
            "grid_template_columns": null,
            "grid_template_rows": null,
            "height": null,
            "justify_content": null,
            "justify_items": null,
            "left": null,
            "margin": null,
            "max_height": null,
            "max_width": null,
            "min_height": null,
            "min_width": null,
            "object_fit": null,
            "object_position": null,
            "order": null,
            "overflow": null,
            "overflow_x": null,
            "overflow_y": null,
            "padding": null,
            "right": null,
            "top": null,
            "visibility": null,
            "width": null
          }
        },
        "6e84b263a68d463c88a17a90977bd337": {
          "model_module": "@jupyter-widgets/controls",
          "model_name": "DescriptionStyleModel",
          "model_module_version": "1.5.0",
          "state": {
            "_model_module": "@jupyter-widgets/controls",
            "_model_module_version": "1.5.0",
            "_model_name": "DescriptionStyleModel",
            "_view_count": null,
            "_view_module": "@jupyter-widgets/base",
            "_view_module_version": "1.2.0",
            "_view_name": "StyleView",
            "description_width": ""
          }
        },
        "db96c0d498974ff6819a22dabae9db64": {
          "model_module": "@jupyter-widgets/controls",
          "model_name": "HBoxModel",
          "model_module_version": "1.5.0",
          "state": {
            "_dom_classes": [],
            "_model_module": "@jupyter-widgets/controls",
            "_model_module_version": "1.5.0",
            "_model_name": "HBoxModel",
            "_view_count": null,
            "_view_module": "@jupyter-widgets/controls",
            "_view_module_version": "1.5.0",
            "_view_name": "HBoxView",
            "box_style": "",
            "children": [
              "IPY_MODEL_317d95f018e144738e40e31a9bd5eac6",
              "IPY_MODEL_6c0a92420734437896686ac9108da0e2",
              "IPY_MODEL_a81fa3e74e824d8b8eb70dee1c86f96c"
            ],
            "layout": "IPY_MODEL_e3e352eec4564a25b2cfbfc1609c8537"
          }
        },
        "317d95f018e144738e40e31a9bd5eac6": {
          "model_module": "@jupyter-widgets/controls",
          "model_name": "HTMLModel",
          "model_module_version": "1.5.0",
          "state": {
            "_dom_classes": [],
            "_model_module": "@jupyter-widgets/controls",
            "_model_module_version": "1.5.0",
            "_model_name": "HTMLModel",
            "_view_count": null,
            "_view_module": "@jupyter-widgets/controls",
            "_view_module_version": "1.5.0",
            "_view_name": "HTMLView",
            "description": "",
            "description_tooltip": null,
            "layout": "IPY_MODEL_a599e7e6f864459ea6d9bb52706ffc19",
            "placeholder": "​",
            "style": "IPY_MODEL_ea92c8975c2448209f7fa91225cd2802",
            "value": "model.safetensors: 100%"
          }
        },
        "6c0a92420734437896686ac9108da0e2": {
          "model_module": "@jupyter-widgets/controls",
          "model_name": "FloatProgressModel",
          "model_module_version": "1.5.0",
          "state": {
            "_dom_classes": [],
            "_model_module": "@jupyter-widgets/controls",
            "_model_module_version": "1.5.0",
            "_model_name": "FloatProgressModel",
            "_view_count": null,
            "_view_module": "@jupyter-widgets/controls",
            "_view_module_version": "1.5.0",
            "_view_name": "ProgressView",
            "bar_style": "success",
            "description": "",
            "description_tooltip": null,
            "layout": "IPY_MODEL_222ca0513e2e433da0aa89c28745a4bc",
            "max": 548105171,
            "min": 0,
            "orientation": "horizontal",
            "style": "IPY_MODEL_e3461fc6631c40fd9b37cad5be6813dd",
            "value": 548105171
          }
        },
        "a81fa3e74e824d8b8eb70dee1c86f96c": {
          "model_module": "@jupyter-widgets/controls",
          "model_name": "HTMLModel",
          "model_module_version": "1.5.0",
          "state": {
            "_dom_classes": [],
            "_model_module": "@jupyter-widgets/controls",
            "_model_module_version": "1.5.0",
            "_model_name": "HTMLModel",
            "_view_count": null,
            "_view_module": "@jupyter-widgets/controls",
            "_view_module_version": "1.5.0",
            "_view_name": "HTMLView",
            "description": "",
            "description_tooltip": null,
            "layout": "IPY_MODEL_1f58d4e6978a44ada7a0ee04b2ae824e",
            "placeholder": "​",
            "style": "IPY_MODEL_f65bccd800834a73bb9e3417f9050e44",
            "value": " 548M/548M [00:09&lt;00:00, 77.8MB/s]"
          }
        },
        "e3e352eec4564a25b2cfbfc1609c8537": {
          "model_module": "@jupyter-widgets/base",
          "model_name": "LayoutModel",
          "model_module_version": "1.2.0",
          "state": {
            "_model_module": "@jupyter-widgets/base",
            "_model_module_version": "1.2.0",
            "_model_name": "LayoutModel",
            "_view_count": null,
            "_view_module": "@jupyter-widgets/base",
            "_view_module_version": "1.2.0",
            "_view_name": "LayoutView",
            "align_content": null,
            "align_items": null,
            "align_self": null,
            "border": null,
            "bottom": null,
            "display": null,
            "flex": null,
            "flex_flow": null,
            "grid_area": null,
            "grid_auto_columns": null,
            "grid_auto_flow": null,
            "grid_auto_rows": null,
            "grid_column": null,
            "grid_gap": null,
            "grid_row": null,
            "grid_template_areas": null,
            "grid_template_columns": null,
            "grid_template_rows": null,
            "height": null,
            "justify_content": null,
            "justify_items": null,
            "left": null,
            "margin": null,
            "max_height": null,
            "max_width": null,
            "min_height": null,
            "min_width": null,
            "object_fit": null,
            "object_position": null,
            "order": null,
            "overflow": null,
            "overflow_x": null,
            "overflow_y": null,
            "padding": null,
            "right": null,
            "top": null,
            "visibility": null,
            "width": null
          }
        },
        "a599e7e6f864459ea6d9bb52706ffc19": {
          "model_module": "@jupyter-widgets/base",
          "model_name": "LayoutModel",
          "model_module_version": "1.2.0",
          "state": {
            "_model_module": "@jupyter-widgets/base",
            "_model_module_version": "1.2.0",
            "_model_name": "LayoutModel",
            "_view_count": null,
            "_view_module": "@jupyter-widgets/base",
            "_view_module_version": "1.2.0",
            "_view_name": "LayoutView",
            "align_content": null,
            "align_items": null,
            "align_self": null,
            "border": null,
            "bottom": null,
            "display": null,
            "flex": null,
            "flex_flow": null,
            "grid_area": null,
            "grid_auto_columns": null,
            "grid_auto_flow": null,
            "grid_auto_rows": null,
            "grid_column": null,
            "grid_gap": null,
            "grid_row": null,
            "grid_template_areas": null,
            "grid_template_columns": null,
            "grid_template_rows": null,
            "height": null,
            "justify_content": null,
            "justify_items": null,
            "left": null,
            "margin": null,
            "max_height": null,
            "max_width": null,
            "min_height": null,
            "min_width": null,
            "object_fit": null,
            "object_position": null,
            "order": null,
            "overflow": null,
            "overflow_x": null,
            "overflow_y": null,
            "padding": null,
            "right": null,
            "top": null,
            "visibility": null,
            "width": null
          }
        },
        "ea92c8975c2448209f7fa91225cd2802": {
          "model_module": "@jupyter-widgets/controls",
          "model_name": "DescriptionStyleModel",
          "model_module_version": "1.5.0",
          "state": {
            "_model_module": "@jupyter-widgets/controls",
            "_model_module_version": "1.5.0",
            "_model_name": "DescriptionStyleModel",
            "_view_count": null,
            "_view_module": "@jupyter-widgets/base",
            "_view_module_version": "1.2.0",
            "_view_name": "StyleView",
            "description_width": ""
          }
        },
        "222ca0513e2e433da0aa89c28745a4bc": {
          "model_module": "@jupyter-widgets/base",
          "model_name": "LayoutModel",
          "model_module_version": "1.2.0",
          "state": {
            "_model_module": "@jupyter-widgets/base",
            "_model_module_version": "1.2.0",
            "_model_name": "LayoutModel",
            "_view_count": null,
            "_view_module": "@jupyter-widgets/base",
            "_view_module_version": "1.2.0",
            "_view_name": "LayoutView",
            "align_content": null,
            "align_items": null,
            "align_self": null,
            "border": null,
            "bottom": null,
            "display": null,
            "flex": null,
            "flex_flow": null,
            "grid_area": null,
            "grid_auto_columns": null,
            "grid_auto_flow": null,
            "grid_auto_rows": null,
            "grid_column": null,
            "grid_gap": null,
            "grid_row": null,
            "grid_template_areas": null,
            "grid_template_columns": null,
            "grid_template_rows": null,
            "height": null,
            "justify_content": null,
            "justify_items": null,
            "left": null,
            "margin": null,
            "max_height": null,
            "max_width": null,
            "min_height": null,
            "min_width": null,
            "object_fit": null,
            "object_position": null,
            "order": null,
            "overflow": null,
            "overflow_x": null,
            "overflow_y": null,
            "padding": null,
            "right": null,
            "top": null,
            "visibility": null,
            "width": null
          }
        },
        "e3461fc6631c40fd9b37cad5be6813dd": {
          "model_module": "@jupyter-widgets/controls",
          "model_name": "ProgressStyleModel",
          "model_module_version": "1.5.0",
          "state": {
            "_model_module": "@jupyter-widgets/controls",
            "_model_module_version": "1.5.0",
            "_model_name": "ProgressStyleModel",
            "_view_count": null,
            "_view_module": "@jupyter-widgets/base",
            "_view_module_version": "1.2.0",
            "_view_name": "StyleView",
            "bar_color": null,
            "description_width": ""
          }
        },
        "1f58d4e6978a44ada7a0ee04b2ae824e": {
          "model_module": "@jupyter-widgets/base",
          "model_name": "LayoutModel",
          "model_module_version": "1.2.0",
          "state": {
            "_model_module": "@jupyter-widgets/base",
            "_model_module_version": "1.2.0",
            "_model_name": "LayoutModel",
            "_view_count": null,
            "_view_module": "@jupyter-widgets/base",
            "_view_module_version": "1.2.0",
            "_view_name": "LayoutView",
            "align_content": null,
            "align_items": null,
            "align_self": null,
            "border": null,
            "bottom": null,
            "display": null,
            "flex": null,
            "flex_flow": null,
            "grid_area": null,
            "grid_auto_columns": null,
            "grid_auto_flow": null,
            "grid_auto_rows": null,
            "grid_column": null,
            "grid_gap": null,
            "grid_row": null,
            "grid_template_areas": null,
            "grid_template_columns": null,
            "grid_template_rows": null,
            "height": null,
            "justify_content": null,
            "justify_items": null,
            "left": null,
            "margin": null,
            "max_height": null,
            "max_width": null,
            "min_height": null,
            "min_width": null,
            "object_fit": null,
            "object_position": null,
            "order": null,
            "overflow": null,
            "overflow_x": null,
            "overflow_y": null,
            "padding": null,
            "right": null,
            "top": null,
            "visibility": null,
            "width": null
          }
        },
        "f65bccd800834a73bb9e3417f9050e44": {
          "model_module": "@jupyter-widgets/controls",
          "model_name": "DescriptionStyleModel",
          "model_module_version": "1.5.0",
          "state": {
            "_model_module": "@jupyter-widgets/controls",
            "_model_module_version": "1.5.0",
            "_model_name": "DescriptionStyleModel",
            "_view_count": null,
            "_view_module": "@jupyter-widgets/base",
            "_view_module_version": "1.2.0",
            "_view_name": "StyleView",
            "description_width": ""
          }
        }
      }
    }
  },
  "cells": [
    {
      "cell_type": "markdown",
      "metadata": {
        "id": "view-in-github",
        "colab_type": "text"
      },
      "source": [
        "<a href=\"https://colab.research.google.com/github/Tiwari666/NLP_MODEL/blob/main/LLMs_Restaurant_Review_Sentiment_Classification.ipynb\" target=\"_parent\"><img src=\"https://colab.research.google.com/assets/colab-badge.svg\" alt=\"Open In Colab\"/></a>"
      ]
    },
    {
      "cell_type": "code",
      "execution_count": 2,
      "metadata": {
        "colab": {
          "base_uri": "https://localhost:8080/"
        },
        "id": "9pnMQ4AIADmJ",
        "outputId": "cf5452f4-1ecc-4e36-c8f3-436e8129b154"
      },
      "outputs": [
        {
          "output_type": "stream",
          "name": "stdout",
          "text": [
            "Requirement already satisfied: transformers in /usr/local/lib/python3.10/dist-packages (4.47.1)\n",
            "Collecting datasets\n",
            "  Downloading datasets-3.2.0-py3-none-any.whl.metadata (20 kB)\n",
            "Requirement already satisfied: torch in /usr/local/lib/python3.10/dist-packages (2.5.1+cu121)\n",
            "Requirement already satisfied: filelock in /usr/local/lib/python3.10/dist-packages (from transformers) (3.16.1)\n",
            "Requirement already satisfied: huggingface-hub<1.0,>=0.24.0 in /usr/local/lib/python3.10/dist-packages (from transformers) (0.27.0)\n",
            "Requirement already satisfied: numpy>=1.17 in /usr/local/lib/python3.10/dist-packages (from transformers) (1.26.4)\n",
            "Requirement already satisfied: packaging>=20.0 in /usr/local/lib/python3.10/dist-packages (from transformers) (24.2)\n",
            "Requirement already satisfied: pyyaml>=5.1 in /usr/local/lib/python3.10/dist-packages (from transformers) (6.0.2)\n",
            "Requirement already satisfied: regex!=2019.12.17 in /usr/local/lib/python3.10/dist-packages (from transformers) (2024.11.6)\n",
            "Requirement already satisfied: requests in /usr/local/lib/python3.10/dist-packages (from transformers) (2.32.3)\n",
            "Requirement already satisfied: tokenizers<0.22,>=0.21 in /usr/local/lib/python3.10/dist-packages (from transformers) (0.21.0)\n",
            "Requirement already satisfied: safetensors>=0.4.1 in /usr/local/lib/python3.10/dist-packages (from transformers) (0.4.5)\n",
            "Requirement already satisfied: tqdm>=4.27 in /usr/local/lib/python3.10/dist-packages (from transformers) (4.67.1)\n",
            "Requirement already satisfied: pyarrow>=15.0.0 in /usr/local/lib/python3.10/dist-packages (from datasets) (17.0.0)\n",
            "Collecting dill<0.3.9,>=0.3.0 (from datasets)\n",
            "  Downloading dill-0.3.8-py3-none-any.whl.metadata (10 kB)\n",
            "Requirement already satisfied: pandas in /usr/local/lib/python3.10/dist-packages (from datasets) (2.2.2)\n",
            "Collecting xxhash (from datasets)\n",
            "  Downloading xxhash-3.5.0-cp310-cp310-manylinux_2_17_x86_64.manylinux2014_x86_64.whl.metadata (12 kB)\n",
            "Collecting multiprocess<0.70.17 (from datasets)\n",
            "  Downloading multiprocess-0.70.16-py310-none-any.whl.metadata (7.2 kB)\n",
            "Collecting fsspec<=2024.9.0,>=2023.1.0 (from fsspec[http]<=2024.9.0,>=2023.1.0->datasets)\n",
            "  Downloading fsspec-2024.9.0-py3-none-any.whl.metadata (11 kB)\n",
            "Requirement already satisfied: aiohttp in /usr/local/lib/python3.10/dist-packages (from datasets) (3.11.10)\n",
            "Requirement already satisfied: typing-extensions>=4.8.0 in /usr/local/lib/python3.10/dist-packages (from torch) (4.12.2)\n",
            "Requirement already satisfied: networkx in /usr/local/lib/python3.10/dist-packages (from torch) (3.4.2)\n",
            "Requirement already satisfied: jinja2 in /usr/local/lib/python3.10/dist-packages (from torch) (3.1.4)\n",
            "Requirement already satisfied: sympy==1.13.1 in /usr/local/lib/python3.10/dist-packages (from torch) (1.13.1)\n",
            "Requirement already satisfied: mpmath<1.4,>=1.1.0 in /usr/local/lib/python3.10/dist-packages (from sympy==1.13.1->torch) (1.3.0)\n",
            "Requirement already satisfied: aiohappyeyeballs>=2.3.0 in /usr/local/lib/python3.10/dist-packages (from aiohttp->datasets) (2.4.4)\n",
            "Requirement already satisfied: aiosignal>=1.1.2 in /usr/local/lib/python3.10/dist-packages (from aiohttp->datasets) (1.3.2)\n",
            "Requirement already satisfied: async-timeout<6.0,>=4.0 in /usr/local/lib/python3.10/dist-packages (from aiohttp->datasets) (4.0.3)\n",
            "Requirement already satisfied: attrs>=17.3.0 in /usr/local/lib/python3.10/dist-packages (from aiohttp->datasets) (24.3.0)\n",
            "Requirement already satisfied: frozenlist>=1.1.1 in /usr/local/lib/python3.10/dist-packages (from aiohttp->datasets) (1.5.0)\n",
            "Requirement already satisfied: multidict<7.0,>=4.5 in /usr/local/lib/python3.10/dist-packages (from aiohttp->datasets) (6.1.0)\n",
            "Requirement already satisfied: propcache>=0.2.0 in /usr/local/lib/python3.10/dist-packages (from aiohttp->datasets) (0.2.1)\n",
            "Requirement already satisfied: yarl<2.0,>=1.17.0 in /usr/local/lib/python3.10/dist-packages (from aiohttp->datasets) (1.18.3)\n",
            "Requirement already satisfied: charset-normalizer<4,>=2 in /usr/local/lib/python3.10/dist-packages (from requests->transformers) (3.4.0)\n",
            "Requirement already satisfied: idna<4,>=2.5 in /usr/local/lib/python3.10/dist-packages (from requests->transformers) (3.10)\n",
            "Requirement already satisfied: urllib3<3,>=1.21.1 in /usr/local/lib/python3.10/dist-packages (from requests->transformers) (2.2.3)\n",
            "Requirement already satisfied: certifi>=2017.4.17 in /usr/local/lib/python3.10/dist-packages (from requests->transformers) (2024.12.14)\n",
            "Requirement already satisfied: MarkupSafe>=2.0 in /usr/local/lib/python3.10/dist-packages (from jinja2->torch) (3.0.2)\n",
            "Requirement already satisfied: python-dateutil>=2.8.2 in /usr/local/lib/python3.10/dist-packages (from pandas->datasets) (2.8.2)\n",
            "Requirement already satisfied: pytz>=2020.1 in /usr/local/lib/python3.10/dist-packages (from pandas->datasets) (2024.2)\n",
            "Requirement already satisfied: tzdata>=2022.7 in /usr/local/lib/python3.10/dist-packages (from pandas->datasets) (2024.2)\n",
            "Requirement already satisfied: six>=1.5 in /usr/local/lib/python3.10/dist-packages (from python-dateutil>=2.8.2->pandas->datasets) (1.17.0)\n",
            "Downloading datasets-3.2.0-py3-none-any.whl (480 kB)\n",
            "\u001b[2K   \u001b[90m━━━━━━━━━━━━━━━━━━━━━━━━━━━━━━━━━━━━━━━━\u001b[0m \u001b[32m480.6/480.6 kB\u001b[0m \u001b[31m9.0 MB/s\u001b[0m eta \u001b[36m0:00:00\u001b[0m\n",
            "\u001b[?25hDownloading dill-0.3.8-py3-none-any.whl (116 kB)\n",
            "\u001b[2K   \u001b[90m━━━━━━━━━━━━━━━━━━━━━━━━━━━━━━━━━━━━━━━━\u001b[0m \u001b[32m116.3/116.3 kB\u001b[0m \u001b[31m6.3 MB/s\u001b[0m eta \u001b[36m0:00:00\u001b[0m\n",
            "\u001b[?25hDownloading fsspec-2024.9.0-py3-none-any.whl (179 kB)\n",
            "\u001b[2K   \u001b[90m━━━━━━━━━━━━━━━━━━━━━━━━━━━━━━━━━━━━━━━━\u001b[0m \u001b[32m179.3/179.3 kB\u001b[0m \u001b[31m11.9 MB/s\u001b[0m eta \u001b[36m0:00:00\u001b[0m\n",
            "\u001b[?25hDownloading multiprocess-0.70.16-py310-none-any.whl (134 kB)\n",
            "\u001b[2K   \u001b[90m━━━━━━━━━━━━━━━━━━━━━━━━━━━━━━━━━━━━━━━━\u001b[0m \u001b[32m134.8/134.8 kB\u001b[0m \u001b[31m9.4 MB/s\u001b[0m eta \u001b[36m0:00:00\u001b[0m\n",
            "\u001b[?25hDownloading xxhash-3.5.0-cp310-cp310-manylinux_2_17_x86_64.manylinux2014_x86_64.whl (194 kB)\n",
            "\u001b[2K   \u001b[90m━━━━━━━━━━━━━━━━━━━━━━━━━━━━━━━━━━━━━━━━\u001b[0m \u001b[32m194.1/194.1 kB\u001b[0m \u001b[31m13.2 MB/s\u001b[0m eta \u001b[36m0:00:00\u001b[0m\n",
            "\u001b[?25hInstalling collected packages: xxhash, fsspec, dill, multiprocess, datasets\n",
            "  Attempting uninstall: fsspec\n",
            "    Found existing installation: fsspec 2024.10.0\n",
            "    Uninstalling fsspec-2024.10.0:\n",
            "      Successfully uninstalled fsspec-2024.10.0\n",
            "\u001b[31mERROR: pip's dependency resolver does not currently take into account all the packages that are installed. This behaviour is the source of the following dependency conflicts.\n",
            "gcsfs 2024.10.0 requires fsspec==2024.10.0, but you have fsspec 2024.9.0 which is incompatible.\u001b[0m\u001b[31m\n",
            "\u001b[0mSuccessfully installed datasets-3.2.0 dill-0.3.8 fsspec-2024.9.0 multiprocess-0.70.16 xxhash-3.5.0\n"
          ]
        }
      ],
      "source": [
        "# Step 1: Install Required Libraries\n",
        "!pip install transformers datasets torch"
      ]
    },
    {
      "cell_type": "markdown",
      "source": [
        "This command installs three Python libraries: transformers, datasets, and torch, so we can use them in our code for data analysis.\n",
        "\n",
        "--transformers (Library): Tools for pre-trained language models like GPT and BERT.\n",
        "Use: Text generation, sentiment analysis.\n",
        "\n",
        "--datasets (Library): Tools for accessing and managing datasets.\n",
        "Use: Load datasets like IMDB, Wikipedia.\n",
        "Note: datasets (Library) is used to access online datasets. If you load the data yourself, you don't need it.\n",
        "\n",
        "--torch (Library/Framework): PyTorch, a framework for deep learning.\n",
        "Use: Train AI models, perform computations.\n",
        "\n",
        "\n",
        "$$$$$$$$$$$$$$$$$$$$\n",
        "---PyTorch's Role: PyTorch offers a flexible and dynamic environment for building and training deep learning models. It provides core functionalities like:\n",
        "\n",
        "---Tensor operations: Efficient manipulation of multi-dimensional arrays (tensors).\n",
        "\n",
        "---Automatic differentiation: Automatic computation of gradients, crucial for training neural networks.\n",
        "\n",
        "---Neural network building blocks: Pre-built layers like convolutional layers, recurrent layers, etc.\n",
        "\n",
        "---GPU acceleration: Support for running computations on GPUs for faster training.\n",
        "\n",
        "Note:\n",
        "---In simple terms, a GPU is like a supercomputer for pictures.\n",
        "\n",
        "---It's designed to handle lots of calculations at once, which is perfect for things like creating images and videos.\n",
        "\n",
        "---Deep learning models also need to do tons of calculations, so GPUs are great for training these models quickly.\n",
        "\n",
        "\n",
        "\n",
        "----Think of it this way: if your CPU is like a really fast car for one person, a GPU is like a huge bus that can carry a whole bunch of people at the same time!\n",
        "\n"
      ],
      "metadata": {
        "id": "sWMcjsoyJ3Db"
      }
    },
    {
      "cell_type": "code",
      "source": [
        "# Step 2: Load the Data\n",
        "import pandas as pd\n",
        "\n",
        "# Load the dataset\n",
        "data = pd.read_csv('/content/Restaurant_Reviews.tsv', delimiter='\\t')\n",
        "print(data.head())"
      ],
      "metadata": {
        "colab": {
          "base_uri": "https://localhost:8080/"
        },
        "id": "jDQ58l8cAIWC",
        "outputId": "14c46f82-9756-434e-b077-d999d603fa06"
      },
      "execution_count": 4,
      "outputs": [
        {
          "output_type": "stream",
          "name": "stdout",
          "text": [
            "                                              Review  Liked\n",
            "0                           Wow... Loved this place.      1\n",
            "1                                 Crust is not good.      0\n",
            "2          Not tasty and the texture was just nasty.      0\n",
            "3  Stopped by during the late May bank holiday of...      1\n",
            "4  The selection on the menu was great and so wer...      1\n"
          ]
        }
      ]
    },
    {
      "cell_type": "markdown",
      "source": [
        "**# Step 3: Preprocess the Data (Tokenization)**"
      ],
      "metadata": {
        "id": "quGH0HRJHoN8"
      }
    },
    {
      "cell_type": "code",
      "source": [
        "# Step 3: Preprocess the Data (Tokenization)\n",
        "from transformers import GPT2Tokenizer\n",
        "\n",
        "# Initialize the tokenizer\n",
        "tokenizer = GPT2Tokenizer.from_pretrained(\"gpt2\")\n",
        "tokenizer.pad_token = tokenizer.eos_token  # Set padding token for tokenizer\n",
        "\n",
        "# Set padding token in the model's configuration\n",
        "from transformers import AutoModelForSequenceClassification\n",
        "model_name = \"gpt2\"\n",
        "model = AutoModelForSequenceClassification.from_pretrained(model_name, num_labels=2)\n",
        "\n",
        "# Set padding token in the model's configuration\n",
        "model.config.pad_token_id = tokenizer.eos_token_id  # Define padding token for model config\n",
        "\n",
        "# Tokenize the data\n",
        "encodings = tokenizer(data['Review'].tolist(), truncation=True, padding=True, max_length=512, return_tensors=\"pt\")"
      ],
      "metadata": {
        "colab": {
          "base_uri": "https://localhost:8080/",
          "height": 368,
          "referenced_widgets": [
            "20fcbe3f5df24b2c98356424ece4ab49",
            "515bd23ae9d940cfbd1dfab249d63200",
            "bef5e96890be4b778b30ed4c3ef04eb3",
            "63c7cc647146472bba85625a9929dc53",
            "23ddf2d96b16404d8674b105d338fc0b",
            "cde6de77b2904b75a4b9696fec75081a",
            "10596055cb454f42b95c0a42cfd493e8",
            "d2dee416e5824358bb21e7efc330c88b",
            "8c476620287a4707bc148b4e556474ac",
            "3b63e499daa845099145061d769a0cc5",
            "4661f7f29f53498199c010840b2623af",
            "c69e56150b4743b0b43f34ff4cbbf6fc",
            "66a37330b8844c989f68a707a81b1da2",
            "57f4b93df7354bfd81c17bf6d890d36a",
            "e59e0401fe174740bd5546851469c7e3",
            "e40d04e0d03344a2ab8bec83bf00d6f2",
            "8f7bb9cf34ff4e9ca007faa0857f66fb",
            "d61648dc97364384b0663e32a4ea9d4e",
            "11055a30262440969d4ce8c4dc90917c",
            "c7329f5013ff4619960befeaf38e19ff",
            "003e9eff8e224ffbade028f62fb628c4",
            "1eaec5702b504deeace5bfe72d5bc5b5",
            "97f7e07ec4a84576bab5cd6c7b14a3d8",
            "da5f275736f2456db7c3930a8cf2461a",
            "4ef65d0f767c40739b7b0015f645a27e",
            "942881af480f4120bfa3b3449071641a",
            "8797c257be0641ba90dc4ff4914a4955",
            "214d7b57223140118bcd4a4e9924e192",
            "4600d8328f7a41a98b2d4228ca89b546",
            "439851e1972d46c9a3813a8dbe05807f",
            "adca5e00714a4868abcb4640c5f86484",
            "0e9ef20168244dce96b1bbf78403e3fa",
            "79424da8aa2d40d093e87a0ad552d7cc",
            "8b4106b733c949a1ae2a39def997d018",
            "2423e98e6caf44bcaa9d51c51a6e6c41",
            "d589e298e86f47ec9cd675c20bad4c9a",
            "8774811a516845a5b34565d6f9efb0d9",
            "125a01b31a17490da273e0cdbc144512",
            "b0ca7a2f75524e3781de17218e82aecb",
            "d8ee34122dc54a989b1b790d1da255ba",
            "2cb36e67b7384b66afa1edf458190006",
            "1864378565c3427491f8da754f151e61",
            "a8bd5623193e43de97ff95202052a30f",
            "7bc2f61d10b3451e96c30f8fb61235b6",
            "9b55d93447a04c0d93dc5fdba9c8cd49",
            "d9bb430775f94b84bdd55f5bbeeed6d3",
            "e7289adbde884fd1a4dcfbb0004a8811",
            "efaac024c04d4ac4b13981c7f3b38c4e",
            "3cecabfb9c4a48aa8d2be55f8e0405d1",
            "2b15d6c0d47a41ff8bc6f23dd932db9e",
            "08612f1eca884a1baacd7ca94c4acaaf",
            "13da002a24c540f086155a63b4395b25",
            "51d35e3260a04fcbaedb2b9eb76f8c19",
            "23e04c2b8d3642d2835cc569c2bc4790",
            "6e84b263a68d463c88a17a90977bd337",
            "db96c0d498974ff6819a22dabae9db64",
            "317d95f018e144738e40e31a9bd5eac6",
            "6c0a92420734437896686ac9108da0e2",
            "a81fa3e74e824d8b8eb70dee1c86f96c",
            "e3e352eec4564a25b2cfbfc1609c8537",
            "a599e7e6f864459ea6d9bb52706ffc19",
            "ea92c8975c2448209f7fa91225cd2802",
            "222ca0513e2e433da0aa89c28745a4bc",
            "e3461fc6631c40fd9b37cad5be6813dd",
            "1f58d4e6978a44ada7a0ee04b2ae824e",
            "f65bccd800834a73bb9e3417f9050e44"
          ]
        },
        "id": "rXuzm-6ii0lE",
        "outputId": "d0a14761-7db2-48d5-feaa-783d3cee8d05"
      },
      "execution_count": 5,
      "outputs": [
        {
          "output_type": "stream",
          "name": "stderr",
          "text": [
            "/usr/local/lib/python3.10/dist-packages/huggingface_hub/utils/_auth.py:94: UserWarning: \n",
            "The secret `HF_TOKEN` does not exist in your Colab secrets.\n",
            "To authenticate with the Hugging Face Hub, create a token in your settings tab (https://huggingface.co/settings/tokens), set it as secret in your Google Colab and restart your session.\n",
            "You will be able to reuse this secret in all of your notebooks.\n",
            "Please note that authentication is recommended but still optional to access public models or datasets.\n",
            "  warnings.warn(\n"
          ]
        },
        {
          "output_type": "display_data",
          "data": {
            "text/plain": [
              "tokenizer_config.json:   0%|          | 0.00/26.0 [00:00<?, ?B/s]"
            ],
            "application/vnd.jupyter.widget-view+json": {
              "version_major": 2,
              "version_minor": 0,
              "model_id": "20fcbe3f5df24b2c98356424ece4ab49"
            }
          },
          "metadata": {}
        },
        {
          "output_type": "display_data",
          "data": {
            "text/plain": [
              "vocab.json:   0%|          | 0.00/1.04M [00:00<?, ?B/s]"
            ],
            "application/vnd.jupyter.widget-view+json": {
              "version_major": 2,
              "version_minor": 0,
              "model_id": "c69e56150b4743b0b43f34ff4cbbf6fc"
            }
          },
          "metadata": {}
        },
        {
          "output_type": "display_data",
          "data": {
            "text/plain": [
              "merges.txt:   0%|          | 0.00/456k [00:00<?, ?B/s]"
            ],
            "application/vnd.jupyter.widget-view+json": {
              "version_major": 2,
              "version_minor": 0,
              "model_id": "97f7e07ec4a84576bab5cd6c7b14a3d8"
            }
          },
          "metadata": {}
        },
        {
          "output_type": "display_data",
          "data": {
            "text/plain": [
              "tokenizer.json:   0%|          | 0.00/1.36M [00:00<?, ?B/s]"
            ],
            "application/vnd.jupyter.widget-view+json": {
              "version_major": 2,
              "version_minor": 0,
              "model_id": "8b4106b733c949a1ae2a39def997d018"
            }
          },
          "metadata": {}
        },
        {
          "output_type": "display_data",
          "data": {
            "text/plain": [
              "config.json:   0%|          | 0.00/665 [00:00<?, ?B/s]"
            ],
            "application/vnd.jupyter.widget-view+json": {
              "version_major": 2,
              "version_minor": 0,
              "model_id": "9b55d93447a04c0d93dc5fdba9c8cd49"
            }
          },
          "metadata": {}
        },
        {
          "output_type": "display_data",
          "data": {
            "text/plain": [
              "model.safetensors:   0%|          | 0.00/548M [00:00<?, ?B/s]"
            ],
            "application/vnd.jupyter.widget-view+json": {
              "version_major": 2,
              "version_minor": 0,
              "model_id": "db96c0d498974ff6819a22dabae9db64"
            }
          },
          "metadata": {}
        },
        {
          "output_type": "stream",
          "name": "stderr",
          "text": [
            "Some weights of GPT2ForSequenceClassification were not initialized from the model checkpoint at gpt2 and are newly initialized: ['score.weight']\n",
            "You should probably TRAIN this model on a down-stream task to be able to use it for predictions and inference.\n"
          ]
        }
      ]
    },
    {
      "cell_type": "markdown",
      "source": [
        "### from transformers import GPT2Tokenizer\n",
        "\n",
        "--transformers: Library\n",
        "--A collection of tools for working with language models like GPT-2.\n",
        "\n",
        "--GPT2Tokenizer: Class\n",
        "--A blueprint for creating a tokenizer that processes text for GPT-2.\n",
        "\n",
        "### tokenizer = GPT2Tokenizer.from_pretrained(\"gpt2\")\n",
        "\n",
        "--GPT2Tokenizer.from_pretrained(): Class Method/Function---\n",
        "A function from the GPT2Tokenizer class that loads a pre-trained tokenizer for GPT-2.\n",
        "\n",
        "---\"gpt2\": Parameter---\n",
        "Specifies which model's tokenizer to load (GPT-2 in this case).\n",
        "\n",
        "---tokenizer is an object, why?.\n",
        "\n",
        "----a) GPT2Tokenizer is a class in the transformers library.\n",
        "\n",
        "---b) from_pretrained(\"gpt2\") is a class method that creates an instance (object) of the GPT2Tokenizer class.\n",
        "\n",
        "---c) The result of this method (tokenizer) is the object.\n",
        "\n",
        "\n",
        "--Advantages of Creating an Object (Short and Sweet):\n",
        "\n",
        "a) Encapsulation: Combines data (e.g., pad_token) and behavior (e.g., tokenizer.encode()) in one place.\n",
        "\n",
        "b) Reusability: Use the same tokenizer object to process multiple texts.\n",
        "\n",
        "c) Customization: Tailored for GPT-2, ensuring tokenization aligns with the model's requirements.\n",
        "\n",
        "d) Readability: Keeps the code clean and organized.\n",
        "\n",
        "e) Modularity: Allows creating multiple independent tokenizers for different configurations (\"gpt2\" model, \"bert-base-uncased\" model).\n",
        "\n",
        "--Note: gpt2\" and \"bert-base-uncased\" are pre-trained models. These are ready-to-use AI models trained on massive datasets to perform language-related tasks (like text generation, sentiment analysis, etc.).\n",
        "\n",
        "\n",
        "--Padding adds extra tokens (like blank spaces) to make all sentences the same length, so the model can process them together efficiently.\n",
        "\n",
        "![image.png](data:image/png;base64,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)\n",
        "\n",
        "\n",
        "\n"
      ],
      "metadata": {
        "id": "fEBoU5H1PERE"
      }
    },
    {
      "cell_type": "markdown",
      "source": [
        "![image.png](data:image/png;base64,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)"
      ],
      "metadata": {
        "id": "oWbb7TQyVk_N"
      }
    },
    {
      "cell_type": "markdown",
      "source": [
        "If you remove .tolist() from the line:\n",
        "encodings = tokenizer(data['Review'], truncation=True, padding=True, max_length=512, return_tensors=\"pt\"),\n",
        "\n",
        "the default data structure of the output will likely be a pandas Series or a NumPy array, depending on the data type of data['Review'].\n",
        "\n",
        "Tokenizer Input Expectation: The tokenizer function from the Hugging Face Transformers library generally expects a list of strings as input."
      ],
      "metadata": {
        "id": "1Mb5ddZ6fd1T"
      }
    },
    {
      "cell_type": "markdown",
      "source": [
        "**Step 4: Convert Encodings to PyTorch Tensors**"
      ],
      "metadata": {
        "id": "Sf0qJnZz3zJC"
      }
    },
    {
      "cell_type": "code",
      "source": [
        "# Step 4: Convert Encodings to PyTorch Tensors\n",
        "import torch\n",
        "\n",
        "# Extract input_ids and attention_mask\n",
        "input_ids = torch.tensor(encodings['input_ids'])\n",
        "attention_mask = torch.tensor(encodings['attention_mask'])\n",
        "labels = torch.tensor(data['Liked'].values)  # Here, 'Liked' is the target label (0 or 1)\n",
        "\n",
        "# Create PyTorch datasets\n",
        "dataset = torch.utils.data.TensorDataset(input_ids, attention_mask, labels)"
      ],
      "metadata": {
        "colab": {
          "base_uri": "https://localhost:8080/"
        },
        "id": "MMG37lYZjWNM",
        "outputId": "e3bbec79-7e37-4ada-9311-19e7660cdcd6"
      },
      "execution_count": 6,
      "outputs": [
        {
          "output_type": "stream",
          "name": "stderr",
          "text": [
            "<ipython-input-6-5828af2cf724>:5: UserWarning: To copy construct from a tensor, it is recommended to use sourceTensor.clone().detach() or sourceTensor.clone().detach().requires_grad_(True), rather than torch.tensor(sourceTensor).\n",
            "  input_ids = torch.tensor(encodings['input_ids'])\n",
            "<ipython-input-6-5828af2cf724>:6: UserWarning: To copy construct from a tensor, it is recommended to use sourceTensor.clone().detach() or sourceTensor.clone().detach().requires_grad_(True), rather than torch.tensor(sourceTensor).\n",
            "  attention_mask = torch.tensor(encodings['attention_mask'])\n"
          ]
        }
      ]
    },
    {
      "cell_type": "code",
      "source": [
        "# Split into train and validation sets\n",
        "train_size = int(0.8 * len(dataset))  # 80% for training\n",
        "val_size = len(dataset) - train_size  # 20% for validation\n",
        "train_dataset, val_dataset = torch.utils.data.random_split(dataset, [train_size, val_size])"
      ],
      "metadata": {
        "id": "av0rb93WjpxF"
      },
      "execution_count": 7,
      "outputs": []
    },
    {
      "cell_type": "markdown",
      "source": [
        "The above step (4) code snippet prepares the tokenized text data for training a deep learning model in PyTorch.\n",
        "\n",
        "It extracts the **input_ids** and **attention_mask** from the encodings dictionary, converting them into PyTorch tensors along with the corresponding labels.\n",
        "\n",
        "These tensors are then combined into a torch.utils.data.TensorDataset, creating a structured data source for the model.\n",
        "\n",
        "Finally, the dataset is split into training and validation sets using torch.utils.data.random_split, ensuring that the model is trained on a portion of the data and evaluated on a separate, unseen portion to prevent overfitting.\n",
        "This organized data structure is crucial for efficient and effective model training in PyTorch."
      ],
      "metadata": {
        "id": "LfA9LojNt8MX"
      }
    },
    {
      "cell_type": "markdown",
      "source": [
        "**# Step 5: Create Data Loaders**\n",
        "\n",
        "Data loaders are used to efficiently batch and shuffle the data during training. creating data loaders for both the training and validation datasets."
      ],
      "metadata": {
        "id": "or4jZVzmH9BA"
      }
    },
    {
      "cell_type": "code",
      "source": [
        "# Step 5: Create Data Loaders\n",
        "from torch.utils.data import DataLoader\n",
        "\n",
        "# Create data loaders: Use torch.utils.data.DataLoader to create data loaders for efficient batching and shuffling during training.\n",
        "train_dataloader = DataLoader(train_dataset, batch_size=16, shuffle=True)\n",
        "val_dataloader = DataLoader(val_dataset, batch_size=16)"
      ],
      "metadata": {
        "id": "ZZqfx_IykE5U"
      },
      "execution_count": 8,
      "outputs": []
    },
    {
      "cell_type": "markdown",
      "source": [
        "DataLoaders in PyTorch are essential for efficient and robust training. They provide a mechanism to fetch data in batches from your datasets, improving memory usage and training speed.\n",
        "\n",
        " By shuffling the training data within each epoch, DataLoaders help prevent overfitting and ensure the model sees a diverse range of examples.\n",
        "\n",
        " Additionally, they offer flexibility for implementing custom data augmentation or preprocessing steps during the data loading process, further enhancing the training process.\n",
        "\n",
        "In essence, DataLoaders streamline data handling in PyTorch, making training more efficient and robust."
      ],
      "metadata": {
        "id": "Dktv79l5xvQm"
      }
    },
    {
      "cell_type": "markdown",
      "source": [
        "**Step 6: : Load Pre-trained Model**\n",
        "I load a pre-trained model. Here, you're using the GPT-2 model for sequence classification, with the number of labels set to 2 (binary classification).\n",
        "\n",
        "A) Choose a Model Architecture: Select a suitable model architecture for sentiment analysis. Popular choices include:\n",
        "\n",
        "--Pre-trained Transformers:\n",
        "I) BERT (Bidirectional Encoder Representations from Transformers) :model_name = \"bert-base-uncased\"  # Original BERT\n",
        "\n",
        "II) RoBERTa (A Robustly Optimized BERT Approach) : model_name = \"roberta-base\"\n",
        "\n",
        "III) DistilBERT (A distilled version of BERT): model_name = \"distilbert-base-uncased\"\n",
        "\n",
        "IV) GPT-2 (Generative Pre-trained Transformer 2): model_name = \"gpt2\"\n",
        "\n",
        "B) Load the Model: Load the chosen pre-trained model from the transformers library."
      ],
      "metadata": {
        "id": "8Cd7UxVi2oS9"
      }
    },
    {
      "cell_type": "markdown",
      "source": [
        "**# Step 6a: Define the Model and Tokenizer**"
      ],
      "metadata": {
        "id": "_5ON7wAIkxlX"
      }
    },
    {
      "cell_type": "code",
      "source": [
        "from transformers import AutoModelForSequenceClassification, GPT2Tokenizer\n",
        "\n",
        "# Load GPT-2 model and tokenizer\n",
        "model_name = \"gpt2\"\n",
        "model = AutoModelForSequenceClassification.from_pretrained(model_name, num_labels=2)\n",
        "\n",
        "# Initialize tokenizer\n",
        "tokenizer = GPT2Tokenizer.from_pretrained(\"gpt2\")\n",
        "tokenizer.pad_token = tokenizer.eos_token  # Set padding token for tokenizer"
      ],
      "metadata": {
        "colab": {
          "base_uri": "https://localhost:8080/"
        },
        "id": "dd6ah-RSkaUv",
        "outputId": "bdfbe7a3-e8cc-4eee-f362-83f42ebafe43"
      },
      "execution_count": 9,
      "outputs": [
        {
          "output_type": "stream",
          "name": "stderr",
          "text": [
            "Some weights of GPT2ForSequenceClassification were not initialized from the model checkpoint at gpt2 and are newly initialized: ['score.weight']\n",
            "You should probably TRAIN this model on a down-stream task to be able to use it for predictions and inference.\n"
          ]
        }
      ]
    },
    {
      "cell_type": "markdown",
      "source": [
        "**Step 6b: Set Padding Token in the Model Configuration and Define Loss Function & Optimizer**\n",
        "\n",
        "\n"
      ],
      "metadata": {
        "id": "6WKxSJPMlRnU"
      }
    },
    {
      "cell_type": "code",
      "source": [
        "from transformers import AdamW\n",
        "\n",
        "# Set padding token in the model's configuration\n",
        "model.config.pad_token_id = tokenizer.eos_token_id  # Define padding token for model config\n",
        "\n",
        "# Set up optimizer and loss function\n",
        "loss_fn = torch.nn.CrossEntropyLoss()\n",
        "optimizer = AdamW(model.parameters(), lr=2e-5)  # Adjust learning rate as needed"
      ],
      "metadata": {
        "colab": {
          "base_uri": "https://localhost:8080/"
        },
        "id": "9jb6HvPjjypV",
        "outputId": "9812e6a5-d28c-4eac-9f2f-bfe0b8e5dadc"
      },
      "execution_count": 10,
      "outputs": [
        {
          "output_type": "stream",
          "name": "stderr",
          "text": [
            "/usr/local/lib/python3.10/dist-packages/transformers/optimization.py:591: FutureWarning: This implementation of AdamW is deprecated and will be removed in a future version. Use the PyTorch implementation torch.optim.AdamW instead, or set `no_deprecation_warning=True` to disable this warning\n",
            "  warnings.warn(\n"
          ]
        }
      ]
    },
    {
      "cell_type": "markdown",
      "source": [
        "**Explanation**\n",
        "\n",
        "**AutoModelForSequenceClassification:**  This class from the transformers library provides a convenient way to load pre-trained models fine-tuned for sequence classification tasks (like sentiment analysis).\n",
        "\n",
        "**model_name:** This variable holds the name of the pre-trained model you want to use.\n",
        "\n",
        "**from_pretrained(model_name, num_labels=2):** This line loads the pre-trained model weights from the Hugging Face Model Hub using the specified model_name. You may need to adjust num_labels if your classification task has more than two classes.\n",
        "\n",
        "**num_labels=2**  indicates that the model is being fine-tuned for a binary classification task (e.g., positive/negative sentiment).\n",
        "\n",
        "By changing the model_name variable, you can easily switch between different pre-trained models for your sequence classification task."
      ],
      "metadata": {
        "id": "W9f2yC8i56_I"
      }
    },
    {
      "cell_type": "markdown",
      "source": [
        "**Define the Loss Function and Optimizer**\n",
        "\n",
        "Loss Function: Use torch.nn.CrossEntropyLoss for binary classification.\n",
        "\n",
        "Optimizer: Choose an optimizer like AdamW."
      ],
      "metadata": {
        "id": "rOFUR_Mo9CTq"
      }
    },
    {
      "cell_type": "markdown",
      "source": [
        "tools = functions/algorithms\n",
        "\n",
        "**torch = framework**\n",
        "\n",
        "The loss_fn (CrossEntropyLoss) defines a mathematical function to measure the discrepancy between the model's predictions and the actual labels.\n",
        "\n",
        "The optimizer (AdamW) is an algorithm that efficiently updates the model's parameters to minimize the loss function, effectively guiding the model towards better performance.\n",
        "\n",
        "\n",
        "\n",
        "**torch.nn:** This part refers to the nn **module** in PyTorch. The nn module provides a collection of classes and functions for building and training neural networks(nn).\n",
        "\n",
        "**CrossEntropyLoss():** This is the specific **class** within the nn module. CrossEntropyLoss is a loss function commonly used in classification tasks.\n",
        "\n",
        "**Classification:** In classification problems, the model predicts the probability of an input belonging to each class.\n",
        "\n",
        "**Cross-Entropy:** This loss function measures the difference between the predicted probability distribution and the actual class (the true label).\n",
        "\n",
        "**Conclusion:**\n",
        "\n",
        "**torch.nn.CrossEntropyLoss()** creates an object that can be used to calculate the loss between the model's predicted class probabilities and the true class labels during training."
      ],
      "metadata": {
        "id": "1Q8pK3aG9uuX"
      }
    },
    {
      "cell_type": "markdown",
      "source": [
        "**Step 7: Training and Validation Loop**\n",
        "\n"
      ],
      "metadata": {
        "id": "y0lIEpn1mCdD"
      }
    },
    {
      "cell_type": "markdown",
      "source": [
        "**Train the Model**\n",
        "The model is trained over multiple epochs, and for each epoch, the loss is computed and backpropagated. After each batch, the optimizer is updated. You also have a validation loop to evaluate the model after each epoch.\n",
        "\n",
        "Training Loop: Iterate through the training dataset, forward pass the inputs to the model, compute the loss, backpropagate the gradients, and update the model's parameters.\n",
        "\n",
        "Validation Loop: Evaluate the model's performance on the validation set after each epoch to monitor progress and prevent overfitting."
      ],
      "metadata": {
        "id": "BSSjlFTitW-D"
      }
    },
    {
      "cell_type": "code",
      "source": [
        "# Training Loop\n",
        "\n",
        "num_epochs = 3  # Adjust as needed\n",
        "\n",
        "for epoch in range(num_epochs):\n",
        "    model.train()  # Set model to training mode\n",
        "    for batch in train_dataloader:\n",
        "        input_ids, attention_mask, labels = batch\n",
        "        outputs = model(input_ids, attention_mask=attention_mask)  # Forward pass\n",
        "        logits = outputs.logits  # Assuming logits are the model's output\n",
        "        loss = loss_fn(logits, labels)  # Compute loss\n",
        "        loss.backward()  # Backpropagate loss\n",
        "        optimizer.step()  # Update optimizer\n",
        "        optimizer.zero_grad()  # Reset gradients\n",
        "\n",
        "    # Validation loop\n",
        "    model.eval()  # Set model to evaluation mode\n",
        "    total_loss = 0\n",
        "    correct_predictions = 0\n",
        "    for batch in val_dataloader:\n",
        "        input_ids, attention_mask, labels = batch\n",
        "        with torch.no_grad():  # No gradients are needed for evaluation\n",
        "            outputs = model(input_ids, attention_mask=attention_mask)\n",
        "        logits = outputs.logits\n",
        "        total_loss += loss_fn(logits, labels).item()\n",
        "        _, predicted = torch.max(logits, dim=1)\n",
        "        correct_predictions += (predicted == labels).sum().item()\n",
        "\n",
        "    # Calculate validation loss and accuracy\n",
        "    val_loss = total_loss / len(val_dataloader)\n",
        "    val_accuracy = correct_predictions / len(val_dataset)\n",
        "    print(f\"Epoch {epoch+1}/{num_epochs}, Val Loss: {val_loss:.4f}, Val Accuracy: {val_accuracy:.4f}\")\n",
        "\n"
      ],
      "metadata": {
        "colab": {
          "base_uri": "https://localhost:8080/"
        },
        "outputId": "fde0d13f-b3d2-47f3-ce6a-2bdee91c43d3",
        "id": "USkhvHMFu2v6"
      },
      "execution_count": 13,
      "outputs": [
        {
          "output_type": "stream",
          "name": "stdout",
          "text": [
            "Epoch 1/3, Val Loss: 0.1719, Val Accuracy: 0.9300\n",
            "Epoch 2/3, Val Loss: 0.2275, Val Accuracy: 0.9250\n",
            "Epoch 3/3, Val Loss: 0.1922, Val Accuracy: 0.9400\n"
          ]
        }
      ]
    },
    {
      "cell_type": "markdown",
      "source": [
        "**Step 8: Final Model and Prediction**\n",
        "\n",
        "After training, we can save the model and make predictions on new data."
      ],
      "metadata": {
        "id": "7AiT4oOxnwV8"
      }
    },
    {
      "cell_type": "code",
      "source": [
        "# Save the trained model\n",
        "model.save_pretrained('./trained_gpt2_model')\n",
        "tokenizer.save_pretrained('./trained_gpt2_model')"
      ],
      "metadata": {
        "colab": {
          "base_uri": "https://localhost:8080/"
        },
        "id": "HkBoL2-poIyv",
        "outputId": "201bc12e-8157-4a08-8557-dfb3dc420373"
      },
      "execution_count": 14,
      "outputs": [
        {
          "output_type": "execute_result",
          "data": {
            "text/plain": [
              "('./trained_gpt2_model/tokenizer_config.json',\n",
              " './trained_gpt2_model/special_tokens_map.json',\n",
              " './trained_gpt2_model/vocab.json',\n",
              " './trained_gpt2_model/merges.txt',\n",
              " './trained_gpt2_model/added_tokens.json')"
            ]
          },
          "metadata": {},
          "execution_count": 14
        }
      ]
    },
    {
      "cell_type": "code",
      "source": [
        "# Predict on new data\n",
        "model.eval()\n",
        "new_reviews = [\"Great food!\", \"Terrible experience.\"]\n",
        "encodings_new = tokenizer(new_reviews, truncation=True, padding=True, max_length=512, return_tensors=\"pt\")\n",
        "input_ids_new = torch.tensor(encodings_new['input_ids'])\n",
        "attention_mask_new = torch.tensor(encodings_new['attention_mask'])\n",
        "\n",
        "with torch.no_grad():\n",
        "    outputs = model(input_ids_new, attention_mask=attention_mask_new)\n",
        "    logits_new = outputs.logits\n",
        "    predictions = torch.argmax(logits_new, dim=1)\n",
        "    print(\"Predictions:\", predictions)\n"
      ],
      "metadata": {
        "colab": {
          "base_uri": "https://localhost:8080/"
        },
        "id": "5eDDHdNlnCyv",
        "outputId": "3b6519ae-9a74-46d1-c5b4-6c6e0534db08"
      },
      "execution_count": 15,
      "outputs": [
        {
          "output_type": "stream",
          "name": "stdout",
          "text": [
            "Predictions: tensor([1, 0])\n"
          ]
        },
        {
          "output_type": "stream",
          "name": "stderr",
          "text": [
            "<ipython-input-15-e08346e4e98e>:5: UserWarning: To copy construct from a tensor, it is recommended to use sourceTensor.clone().detach() or sourceTensor.clone().detach().requires_grad_(True), rather than torch.tensor(sourceTensor).\n",
            "  input_ids_new = torch.tensor(encodings_new['input_ids'])\n",
            "<ipython-input-15-e08346e4e98e>:6: UserWarning: To copy construct from a tensor, it is recommended to use sourceTensor.clone().detach() or sourceTensor.clone().detach().requires_grad_(True), rather than torch.tensor(sourceTensor).\n",
            "  attention_mask_new = torch.tensor(encodings_new['attention_mask'])\n"
          ]
        }
      ]
    },
    {
      "cell_type": "markdown",
      "source": [
        "# **Interpreting the result:**\n",
        "\n",
        "The code  running above is using the trained model to predict the sentiment of two new reviews: \"Great food!\" and \"Terrible experience.\"\n",
        "\n",
        "**Predictions: tensor([1, 0])**\n",
        "\n",
        "--This output means:\n",
        "\n",
        "--1 for \"Great food!\": The model predicts that this review is positive (class 1).\n",
        "\n",
        "--0 for \"Terrible experience.\": The model predicts that this review is negative (class 0).\n",
        "\n"
      ],
      "metadata": {
        "id": "sptDrPqr0sep"
      }
    },
    {
      "cell_type": "code",
      "source": [
        "from sklearn.metrics import confusion_matrix\n",
        "import numpy as np\n",
        "\n",
        "true_labels_list = []\n",
        "predictions_list = []\n",
        "\n",
        "# Set the model to evaluation mode\n",
        "model.eval()\n",
        "\n",
        "# Loop through the validation or test dataset\n",
        "for batch in val_dataloader:  # or use test_dataloader if you're testing\n",
        "    input_ids, attention_mask, labels = batch\n",
        "\n",
        "    # Make predictions\n",
        "    with torch.no_grad():\n",
        "        outputs = model(input_ids, attention_mask=attention_mask)\n",
        "        logits = outputs.logits\n",
        "        predictions = torch.argmax(logits, dim=1)\n",
        "\n",
        "        # Store the true labels and predictions\n",
        "        true_labels_list.extend(labels.numpy())  # convert to numpy for easy comparison\n",
        "        predictions_list.extend(predictions.numpy())\n",
        "\n",
        "# Convert lists to numpy arrays\n",
        "true_labels_array = np.array(true_labels_list)\n",
        "predictions_array = np.array(predictions_list)\n",
        "\n",
        "# Calculate the confusion matrix\n",
        "conf_matrix = confusion_matrix(true_labels_array, predictions_array)\n",
        "\n",
        "# Print the confusion matrix\n",
        "print(\"Confusion Matrix:\\n\", conf_matrix)\n"
      ],
      "metadata": {
        "colab": {
          "base_uri": "https://localhost:8080/"
        },
        "id": "hNFhgh--2Goo",
        "outputId": "46c0364d-e2fb-4d08-be45-436bc5809ec9"
      },
      "execution_count": 17,
      "outputs": [
        {
          "output_type": "stream",
          "name": "stdout",
          "text": [
            "Confusion Matrix:\n",
            " [[99  6]\n",
            " [ 6 89]]\n"
          ]
        }
      ]
    },
    {
      "cell_type": "markdown",
      "source": [
        "![image.png](data:image/png;base64,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)"
      ],
      "metadata": {
        "id": "ubqY_qhS2liW"
      }
    },
    {
      "cell_type": "markdown",
      "source": [
        "**Interpretation of the Confusion Matrix:**\n",
        "\n",
        "a) **True Positives (TP) = 99:** These are the positive reviews that the model correctly predicted as positive.\n",
        "\n",
        "b) **False Positives (FP) = 6:** These are the negative reviews that the model incorrectly predicted as positive.\n",
        "\n",
        "c) **False Negatives (FN) = 6:** These are the positive reviews that the model incorrectly predicted as negative.\n",
        "\n",
        "d) **True Negatives (TN) = 89:** These are the negative reviews that the model correctly predicted as negative."
      ],
      "metadata": {
        "id": "ciyHCgy83SFW"
      }
    },
    {
      "cell_type": "markdown",
      "source": [
        "**In Business Terms:**\n",
        "\n",
        "**True Positives (TP) - 99:**\n",
        "\n",
        "These are the positive reviews that the model identified correctly. In a business context, these are reviews that are correctly classified as positive. The model is performing well here by recognizing the positive sentiment, which is good for promoting customer satisfaction and feedback.\n",
        "\n",
        "**False Positives (FP) - 6:**\n",
        "\n",
        "These are negative reviews that were incorrectly identified as positive. In business terms, these are cases where negative customer experiences are incorrectly classified as positive. This can lead to false insights and misguidance in customer feedback analysis, as the model wrongly believes these customers had a positive experience.\n",
        "\n",
        "**False Negatives (FN) - 6:**\n",
        "\n",
        "These are positive reviews that were incorrectly identified as negative. This means that positive customer feedback was overlooked. In a business context, this is a missed opportunity where the model fails to recognize happy customers, which could affect customer satisfaction scores or marketing efforts.\n",
        "\n",
        "**True Negatives (TN) - 89:**\n",
        "\n",
        "These are negative reviews that were correctly identified as negative. This means the model is accurately identifying dissatisfied customers, allowing the business to address issues and improve customer experiences.\n",
        "\n",
        "**Overall Business Implication:**\n",
        "\n",
        "The model is performing well because it has a high number of true positives (99) and true negatives (89).\n",
        "\n",
        "False positives (6) and false negatives (6) are relatively low, which indicates that the model is fairly accurate at identifying both positive and negative reviews, but there is still room for improvement, particularly in identifying negative feedback as positive and identifying positive feedback as negative.\n",
        "\n",
        "\n",
        "In summary, this model is helping the business accurately identify customer satisfaction (positive or negative) but may need some fine-tuning to reduce errors in predicting customer sentiments."
      ],
      "metadata": {
        "id": "a7nyVWTy3--n"
      }
    },
    {
      "cell_type": "markdown",
      "source": [
        "# **Next Steps:**\n",
        "\n",
        "**Hyperparameter Tuning:** We can experiment with different learning rates, batch sizes, and epochs to improve model performance.\n",
        "\n",
        "**Data Augmentation** : Consider augmenting our training data to add more variation for better generalization.\n",
        "\n",
        "**Model Improvements:** If performance is not satisfactory, you might explore other models like BERT, RoBERTa, or DistilBERT, which are also commonly used for text classification tasks."
      ],
      "metadata": {
        "id": "7588Biru4948"
      }
    },
    {
      "cell_type": "markdown",
      "source": [
        "**Data augmentation** is a technique used to artificially increase the amount of data available for training a model by making small changes to existing data, while still keeping the original meaning. For text data, this can include replacing words with their synonyms, changing the sentence structure, or even translating the text into another language and back to generate new variations. For example, if you have a review that says \"The food was amazing,\" data augmentation might create new versions like \"The meal was incredible\" (synonym replacement) or \"The food was absolutely great\" (random insertion). This helps improve the model's ability to handle different types of input and increases its accuracy by giving it more examples to learn from."
      ],
      "metadata": {
        "id": "Vrfd2I7l5gjY"
      }
    }
  ]
}